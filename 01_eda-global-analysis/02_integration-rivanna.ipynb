{
 "cells": [
  {
   "cell_type": "markdown",
   "id": "93925757-d1bc-4e64-bda7-2ade88121dc3",
   "metadata": {},
   "source": [
    "# TBI snRNA-seq"
   ]
  },
  {
   "cell_type": "markdown",
   "id": "3453d261-c684-419e-a4af-f3024f2b27e6",
   "metadata": {},
   "source": [
    "## Import"
   ]
  },
  {
   "cell_type": "code",
   "execution_count": null,
   "id": "b265e495-f668-4fd1-b055-268d9b147c18",
   "metadata": {},
   "outputs": [],
   "source": [
    "import os\n",
    "from pathlib import Path\n",
    "import matplotlib.pyplot as plt\n",
    "import seaborn as sns\n",
    "import pandas as pd\n",
    "import numpy as np\n",
    "import scanpy as sc\n",
    "\n",
    "import random\n",
    "import torch\n",
    "import scvi"
   ]
  },
  {
   "cell_type": "code",
   "execution_count": null,
   "id": "2b9df864-2422-4b5f-ba22-74920f449c75",
   "metadata": {
    "tags": []
   },
   "outputs": [],
   "source": [
    "print(sns.__version__)\n",
    "print(pd.__version__)\n",
    "print(np.__version__)\n",
    "print(sc.__version__)\n",
    "print(scvi.__version__)"
   ]
  },
  {
   "cell_type": "code",
   "execution_count": null,
   "id": "46643f2d-4afc-4469-b57b-fc72239e3ffa",
   "metadata": {
    "tags": []
   },
   "outputs": [],
   "source": [
    "random.seed(0)\n",
    "torch.manual_seed(0)\n",
    "np.random.seed(0)\n",
    "scvi.settings.seed = 0"
   ]
  },
  {
   "cell_type": "code",
   "execution_count": null,
   "id": "c252b7b2-c782-45eb-be39-d1198ad6c3ee",
   "metadata": {
    "tags": []
   },
   "outputs": [],
   "source": [
    "#os.chdir('../')\n",
    "#os.getcwd()"
   ]
  },
  {
   "cell_type": "code",
   "execution_count": null,
   "id": "1c1c2178-7157-4cb7-8ef8-efc1a3a316c8",
   "metadata": {
    "tags": []
   },
   "outputs": [],
   "source": [
    "data_dir = \"2024-06_tbi-snseq-rivanna/h5ad\"\n",
    "\n",
    "adata = sc.read_h5ad(os.path.join(data_dir, '1-tbi-seq-hvg.h5ad'))"
   ]
  },
  {
   "cell_type": "code",
   "execution_count": null,
   "id": "90a16d06-7dae-4c10-8312-5520c6c2147d",
   "metadata": {
    "tags": []
   },
   "outputs": [],
   "source": [
    "adata"
   ]
  },
  {
   "cell_type": "markdown",
   "id": "ae8aab77-6706-491e-945d-79b6eeb1237a",
   "metadata": {},
   "source": [
    "## Integration with scVI"
   ]
  },
  {
   "cell_type": "markdown",
   "id": "6de43001-e719-49cd-8161-69644c138006",
   "metadata": {},
   "source": [
    "### model_A"
   ]
  },
  {
   "cell_type": "code",
   "execution_count": null,
   "id": "98b1cc16-bda3-4068-aa7d-1287e99afb2d",
   "metadata": {
    "tags": []
   },
   "outputs": [],
   "source": [
    "scvi.model.SCVI.setup_anndata(\n",
    "    adata,\n",
    "    layer='counts',\n",
    "    categorical_covariate_keys=['group'],\n",
    "    continuous_covariate_keys=['total_counts', 'pct_counts_mt', 'pct_counts_ribosomal'],\n",
    ")\n",
    "\n",
    "model_A = scvi.model.SCVI(adata)"
   ]
  },
  {
   "cell_type": "code",
   "execution_count": null,
   "id": "947b2fcb-cb90-4de4-b3c7-3f6223e4cfda",
   "metadata": {
    "tags": []
   },
   "outputs": [],
   "source": [
    "scvi.train.Trainer(accelerator='cpu', devices=1)\n",
    "model_A.train()"
   ]
  },
  {
   "cell_type": "code",
   "execution_count": null,
   "id": "a808f0db-1628-4913-b412-d0a58cc80bbc",
   "metadata": {},
   "outputs": [],
   "source": [
    "scvi_dir = '2024-06_tbi-snseq-rivanna/scvi'\n",
    "print(scvi_dir)"
   ]
  },
  {
   "cell_type": "code",
   "execution_count": null,
   "id": "f7c34eee-d7ff-4140-97e2-7a67a2d86bf8",
   "metadata": {},
   "outputs": [],
   "source": [
    "model_A_dir = os.path.join(scvi_dir, 'model_A')\n",
    "print(model_A_dir)\n",
    "model_A.save(model_A_dir)"
   ]
  },
  {
   "cell_type": "markdown",
   "id": "4990cec8-8041-4dd6-a054-52e7367dbcb2",
   "metadata": {},
   "source": [
    "### model_B"
   ]
  },
  {
   "cell_type": "code",
   "execution_count": null,
   "id": "adb96973-04ae-46b8-9333-7da6c827a141",
   "metadata": {
    "tags": []
   },
   "outputs": [],
   "source": [
    "scvi.model.SCVI.setup_anndata(\n",
    "    adata,\n",
    "    layer='counts',\n",
    "    categorical_covariate_keys=['group'],\n",
    "    continuous_covariate_keys=['total_counts', 'pct_counts_mt', 'pct_counts_ribosomal', 'doublet_scores'],\n",
    ")\n",
    "\n",
    "model_B = scvi.model.SCVI(adata)"
   ]
  },
  {
   "cell_type": "code",
   "execution_count": null,
   "id": "4514c75f-6d7f-4396-93f2-b097611b9d27",
   "metadata": {
    "tags": []
   },
   "outputs": [],
   "source": [
    "scvi.train.Trainer(accelerator='cpu', devices=1)\n",
    "model_B.train()"
   ]
  },
  {
   "cell_type": "code",
   "execution_count": null,
   "id": "987f8117-8152-47aa-8c40-c7249eb02a4f",
   "metadata": {},
   "outputs": [],
   "source": [
    "scvi_dir = '2024-06_tbi-snseq-rivanna/scvi'\n",
    "print(scvi_dir)"
   ]
  },
  {
   "cell_type": "code",
   "execution_count": null,
   "id": "24767ae9-9e62-42ff-933e-4a9866457d1c",
   "metadata": {},
   "outputs": [],
   "source": [
    "model_B_dir = os.path.join(scvi_dir, 'model_B')\n",
    "print(model_B_dir)\n",
    "model_B.save(model_B_dir)"
   ]
  },
  {
   "cell_type": "markdown",
   "id": "20d67f3a-a577-4c78-ab0a-cafaa192e1a6",
   "metadata": {},
   "source": [
    "### model_C"
   ]
  },
  {
   "cell_type": "code",
   "execution_count": null,
   "id": "bbb350d2-bafc-44bc-b0c1-21916a6d4089",
   "metadata": {},
   "outputs": [],
   "source": [
    "cdata = adata[adata.obs.doublet_scores < 0.3].copy()\n",
    "cdata"
   ]
  },
  {
   "cell_type": "code",
   "execution_count": null,
   "id": "66ec92c7-53f6-48af-9856-899988cc9d2c",
   "metadata": {},
   "outputs": [],
   "source": [
    "scvi.model.SCVI.setup_anndata(\n",
    "    cdata,\n",
    "    layer='counts',\n",
    "    categorical_covariate_keys=['group'],\n",
    "    continuous_covariate_keys=['total_counts', 'pct_counts_mt', 'pct_counts_ribosomal'],\n",
    ")\n",
    "\n",
    "model_C = scvi.model.SCVI(cdata)"
   ]
  },
  {
   "cell_type": "code",
   "execution_count": null,
   "id": "d64a2124-cbcc-4da0-bbc0-093f5d6c4094",
   "metadata": {},
   "outputs": [],
   "source": [
    "scvi.train.Trainer(accelerator='cpu', devices=1)\n",
    "model_C.train()"
   ]
  },
  {
   "cell_type": "code",
   "execution_count": null,
   "id": "15c1f9ab-2a0f-427b-9e02-3e5cc606911f",
   "metadata": {},
   "outputs": [],
   "source": [
    "scvi_dir = '2024-06_tbi-snseq-rivanna/scvi'\n",
    "print(scvi_dir)"
   ]
  },
  {
   "cell_type": "code",
   "execution_count": null,
   "id": "ca5bfc96-e879-4361-bfa3-97c384216dbc",
   "metadata": {},
   "outputs": [],
   "source": [
    "model_C_dir = os.path.join(scvi_dir, 'model_C')\n",
    "print(model_C_dir)\n",
    "model_C.save(model_C_dir)"
   ]
  },
  {
   "cell_type": "markdown",
   "id": "616b39fe-ec3b-4d64-b410-923ebb4c79bf",
   "metadata": {},
   "source": [
    "### model_D"
   ]
  },
  {
   "cell_type": "code",
   "execution_count": null,
   "id": "6f9d1e92-127b-4179-9ab1-b17c3234caca",
   "metadata": {},
   "outputs": [],
   "source": [
    "scvi.model.SCVI.setup_anndata(\n",
    "    cdata,\n",
    "    layer='counts',\n",
    "    categorical_covariate_keys=['group'],\n",
    "    continuous_covariate_keys=['total_counts', 'pct_counts_mt', 'pct_counts_ribosomal', 'doublet_scores'],\n",
    ")\n",
    "\n",
    "model_D = scvi.model.SCVI(cdata)"
   ]
  },
  {
   "cell_type": "code",
   "execution_count": null,
   "id": "19003134-7cd1-4dce-8352-8cb3ab8ba800",
   "metadata": {},
   "outputs": [],
   "source": [
    "scvi.train.Trainer(accelerator='cpu', devices=1)\n",
    "model_D.train()"
   ]
  },
  {
   "cell_type": "code",
   "execution_count": null,
   "id": "3c65018f-61f1-4f31-ad7a-6b6b732a4a08",
   "metadata": {
    "tags": []
   },
   "outputs": [],
   "source": [
    "scvi_dir = '2024-06_tbi-snseq-rivanna/scvi'\n",
    "print(scvi_dir)"
   ]
  },
  {
   "cell_type": "code",
   "execution_count": null,
   "id": "fc8aef69-3147-403a-8bd7-c0795139b616",
   "metadata": {},
   "outputs": [],
   "source": [
    "model_D_dir = os.path.join(scvi_dir, 'model_D')\n",
    "print(model_D_dir)\n",
    "model_D.save(model_D_dir)"
   ]
  },
  {
   "cell_type": "markdown",
   "id": "800bd34b-ebd4-48f3-868b-3b5ae63833a5",
   "metadata": {},
   "source": [
    "### model_E"
   ]
  },
  {
   "cell_type": "code",
   "execution_count": null,
   "id": "421803b4-45ce-4715-8a55-94be66d1d6e1",
   "metadata": {
    "tags": []
   },
   "outputs": [],
   "source": [
    "edata = cdata[cdata.obs.doublet_scores < 0.1].copy()\n",
    "edata"
   ]
  },
  {
   "cell_type": "code",
   "execution_count": null,
   "id": "e2d22029-d8a7-4769-89e2-86e32dda1e19",
   "metadata": {},
   "outputs": [],
   "source": [
    "scvi.model.SCVI.setup_anndata(\n",
    "    edata,\n",
    "    layer='counts',\n",
    "    categorical_covariate_keys=['group'],\n",
    "    continuous_covariate_keys=['total_counts', 'pct_counts_mt', 'pct_counts_ribosomal'],\n",
    ")\n",
    "\n",
    "model_E = scvi.model.SCVI(edata)"
   ]
  },
  {
   "cell_type": "code",
   "execution_count": null,
   "id": "a9ab62b2-b687-4270-ba90-06f090cee21d",
   "metadata": {},
   "outputs": [],
   "source": [
    "scvi.train.Trainer(accelerator='cpu', devices=1)\n",
    "model_E.train()"
   ]
  },
  {
   "cell_type": "code",
   "execution_count": null,
   "id": "b69610f3-e9e6-4ecd-9d1d-851b58de84a5",
   "metadata": {},
   "outputs": [],
   "source": [
    "scvi_dir = '2024-06_tbi-snseq-rivanna/scvi'\n",
    "print(scvi_dir)"
   ]
  },
  {
   "cell_type": "code",
   "execution_count": null,
   "id": "b73cced9-4d5c-4376-8eac-51f91674e1c3",
   "metadata": {},
   "outputs": [],
   "source": [
    "model_E_dir = os.path.join(scvi_dir, 'model_E')\n",
    "print(model_E_dir)\n",
    "model_E.save(model_E_dir)"
   ]
  },
  {
   "cell_type": "markdown",
   "id": "8db4e0c9-0279-4a54-b686-9fce52f1c639",
   "metadata": {},
   "source": [
    "### model_F"
   ]
  },
  {
   "cell_type": "code",
   "execution_count": null,
   "id": "d1ce965c-8255-454d-b1e9-a2ba367d01a6",
   "metadata": {
    "tags": []
   },
   "outputs": [],
   "source": [
    "fdata = adata[adata.obs.doublet_scores < 0.2].copy()\n",
    "fdata"
   ]
  },
  {
   "cell_type": "code",
   "execution_count": null,
   "id": "bb699926-1c10-4b09-a1a5-9b95be3b8241",
   "metadata": {
    "tags": []
   },
   "outputs": [],
   "source": [
    "scvi.model.SCVI.setup_anndata(\n",
    "    fdata,\n",
    "    layer='counts',\n",
    "    categorical_covariate_keys=['group'],\n",
    "    continuous_covariate_keys=['total_counts', 'pct_counts_mt', 'pct_counts_ribosomal'],\n",
    ")\n",
    "\n",
    "model_F = scvi.model.SCVI(fdata)"
   ]
  },
  {
   "cell_type": "code",
   "execution_count": null,
   "id": "fd66c351-7a0a-4952-a11d-3c5a97d00fed",
   "metadata": {
    "tags": []
   },
   "outputs": [],
   "source": [
    "scvi.train.Trainer(accelerator='cpu', devices=1)\n",
    "model_F.train()"
   ]
  },
  {
   "cell_type": "code",
   "execution_count": null,
   "id": "f26ce1b0-fa2c-4eb3-827b-94f591b8f9fc",
   "metadata": {
    "tags": []
   },
   "outputs": [],
   "source": [
    "scvi_dir = '2024-06_tbi-snseq-rivanna/scvi'\n",
    "print(scvi_dir)"
   ]
  },
  {
   "cell_type": "code",
   "execution_count": null,
   "id": "a5362c01-ef87-41ab-8184-a6352437b16c",
   "metadata": {
    "tags": []
   },
   "outputs": [],
   "source": [
    "model_F_dir = os.path.join(scvi_dir, 'model_F')\n",
    "print(model_F_dir)\n",
    "model_F.save(model_F_dir)"
   ]
  },
  {
   "cell_type": "markdown",
   "id": "98795ddb-539d-4955-8b31-db8077f0399e",
   "metadata": {},
   "source": [
    "### model_G"
   ]
  },
  {
   "cell_type": "code",
   "execution_count": null,
   "id": "99ae5aee-d085-4c5c-8112-21896c770d38",
   "metadata": {
    "tags": []
   },
   "outputs": [],
   "source": [
    "scvi.model.SCVI.setup_anndata(\n",
    "    fdata,\n",
    "    layer='counts',\n",
    "    categorical_covariate_keys=['group'],\n",
    "    continuous_covariate_keys=['total_counts', 'pct_counts_mt', 'pct_counts_ribosomal', 'doublet_scores'],\n",
    ")\n",
    "\n",
    "model_G = scvi.model.SCVI(fdata)"
   ]
  },
  {
   "cell_type": "code",
   "execution_count": null,
   "id": "85afc59e-23cd-4f08-bb0e-b1bc40b6f3b6",
   "metadata": {
    "tags": []
   },
   "outputs": [],
   "source": [
    "scvi.train.Trainer(accelerator='cpu', devices=1)\n",
    "model_G.train()"
   ]
  },
  {
   "cell_type": "code",
   "execution_count": null,
   "id": "046cae69-8142-472a-92b7-3a9cd5c3808c",
   "metadata": {
    "tags": []
   },
   "outputs": [],
   "source": [
    "scvi_dir = '2024-06_tbi-snseq-rivanna/scvi'\n",
    "print(scvi_dir)"
   ]
  },
  {
   "cell_type": "code",
   "execution_count": null,
   "id": "c11895df-d5a1-4bf9-9612-2c7f4ddd74cc",
   "metadata": {
    "tags": []
   },
   "outputs": [],
   "source": [
    "model_G_dir = os.path.join(scvi_dir, 'model_G')\n",
    "print(model_G_dir)\n",
    "model_G.save(model_G_dir)"
   ]
  },
  {
   "cell_type": "markdown",
   "id": "01e9fadf-fbb7-4573-91ce-f7f8484f0168",
   "metadata": {},
   "source": [
    "### model_H"
   ]
  },
  {
   "cell_type": "code",
   "execution_count": null,
   "id": "fda13b23-f89f-4df4-9e6c-4b332dcaaaef",
   "metadata": {
    "tags": []
   },
   "outputs": [],
   "source": [
    "hdata = adata[adata.obs.doublet_scores < 0.1].copy()\n",
    "hdata"
   ]
  },
  {
   "cell_type": "code",
   "execution_count": null,
   "id": "be92042a-c867-45b5-9a5d-f1f8005e91de",
   "metadata": {
    "tags": []
   },
   "outputs": [],
   "source": [
    "scvi.model.SCVI.setup_anndata(\n",
    "    hdata,\n",
    "    layer='counts',\n",
    "    categorical_covariate_keys=['group'],\n",
    "    continuous_covariate_keys=['total_counts', 'pct_counts_mt', 'pct_counts_ribosomal', 'doublet_scores'],\n",
    ")\n",
    "\n",
    "model_H = scvi.model.SCVI(hdata)"
   ]
  },
  {
   "cell_type": "code",
   "execution_count": null,
   "id": "e64c35ec-3d50-4d18-b287-24e141a6f8ba",
   "metadata": {
    "tags": []
   },
   "outputs": [],
   "source": [
    "scvi.train.Trainer(accelerator='cpu', devices=1)\n",
    "model_H.train()"
   ]
  },
  {
   "cell_type": "code",
   "execution_count": null,
   "id": "e537bf16-c851-49d9-ad8c-3df70c4df600",
   "metadata": {},
   "outputs": [],
   "source": [
    "scvi_dir = '2024-06_tbi-snseq-rivanna/scvi'\n",
    "print(scvi_dir)"
   ]
  },
  {
   "cell_type": "code",
   "execution_count": null,
   "id": "c516303d-2f14-424b-a8da-048e781cf5dd",
   "metadata": {},
   "outputs": [],
   "source": [
    "model_H_dir = os.path.join(scvi_dir, 'model_H')\n",
    "print(model_H_dir)\n",
    "model_H.save(model_H_dir)"
   ]
  }
 ],
 "metadata": {
  "kernelspec": {
   "display_name": "Python (sc-seq)",
   "language": "python",
   "name": "sc-seq"
  },
  "language_info": {
   "codemirror_mode": {
    "name": "ipython",
    "version": 3
   },
   "file_extension": ".py",
   "mimetype": "text/x-python",
   "name": "python",
   "nbconvert_exporter": "python",
   "pygments_lexer": "ipython3",
   "version": "3.9.19"
  }
 },
 "nbformat": 4,
 "nbformat_minor": 5
}
