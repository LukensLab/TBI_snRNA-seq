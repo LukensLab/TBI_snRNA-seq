{
 "cells": [
  {
   "cell_type": "code",
   "execution_count": null,
   "id": "8c994801-e86b-4634-bf09-a2ba6137153e",
   "metadata": {},
   "outputs": [],
   "source": [
    "import os\n",
    "import sys\n",
    "import anndata as ad\n",
    "import scanpy as sc\n",
    "import pandas as pd\n",
    "import numpy as np"
   ]
  },
  {
   "cell_type": "code",
   "execution_count": null,
   "id": "f28162c0-aac7-426b-bc8b-42d4fe78fa6a",
   "metadata": {},
   "outputs": [],
   "source": [
    "base_dir = \"/path/to/soupx_export\"\n",
    "samples = [\"1\", \"3\", \"5\", \"6\", \"7\", \"8\"]"
   ]
  },
  {
   "cell_type": "code",
   "execution_count": null,
   "id": "adc7761a-37b3-429b-8138-c78ff4b63b95",
   "metadata": {},
   "outputs": [],
   "source": [
    "adata_list = []\n",
    "\n",
    "for sample in samples:\n",
    "    sample_dir = os.path.join(base_dir, sample)\n",
    "    print(f\"Processing sample {sample}...\")\n",
    "\n",
    "    counts = pd.read_csv(os.path.join(sample_dir, \"counts_corrected_soupx.csv\"), index_col=0)\n",
    "    metadata = pd.read_csv(os.path.join(sample_dir, \"metadata.csv\"), index_col=0)\n",
    "    features = pd.read_csv(os.path.join(sample_dir, \"features.csv\"))\n",
    "\n",
    "    # Ensure column order matches the features\n",
    "    counts = counts.loc[:, features[\"gene\"]]\n",
    "\n",
    "    adata = ad.AnnData(X=counts.values, obs=metadata, var=pd.DataFrame(index=features[\"gene\"]))\n",
    "    adata.obs[\"sample_id\"] = sample  # Track origin\n",
    "\n",
    "    adata_list.append(adata)"
   ]
  },
  {
   "cell_type": "code",
   "execution_count": null,
   "id": "28fce9b3-0369-4822-bdb9-6487e3198d5b",
   "metadata": {},
   "outputs": [],
   "source": [
    "#sc.pp.highly_variable_genes(adata_combined, n_top_genes=3000, flavor='seurat_v3', subset=False)"
   ]
  },
  {
   "cell_type": "code",
   "execution_count": null,
   "id": "dec3d7e4-a7e4-4168-83d5-f4585c08b926",
   "metadata": {},
   "outputs": [],
   "source": [
    "adata_combined = ad.concat(adata_list, join=\"outer\", label=\"sample\", fill_value=0)"
   ]
  },
  {
   "cell_type": "code",
   "execution_count": null,
   "id": "45fb9ece-42dc-4a83-bb00-4f1ca15cec66",
   "metadata": {},
   "outputs": [],
   "source": [
    "adata_combined.write_h5ad('/path/to/soupx_combined.h5ad', compression='gzip')"
   ]
  }
 ],
 "metadata": {
  "kernelspec": {
   "display_name": "sc-spatial",
   "language": "python",
   "name": "sc-spatial"
  },
  "language_info": {
   "codemirror_mode": {
    "name": "ipython",
    "version": 3
   },
   "file_extension": ".py",
   "mimetype": "text/x-python",
   "name": "python",
   "nbconvert_exporter": "python",
   "pygments_lexer": "ipython3",
   "version": "3.12.2"
  }
 },
 "nbformat": 4,
 "nbformat_minor": 5
}
