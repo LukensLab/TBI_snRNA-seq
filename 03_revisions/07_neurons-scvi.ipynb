{
 "cells": [
  {
   "cell_type": "code",
   "execution_count": null,
   "id": "dc2464fd-ed46-4e87-ae83-bf5e005b2264",
   "metadata": {},
   "outputs": [],
   "source": [
    "import os\n",
    "from pathlib import Path\n",
    "import scanpy as sc\n",
    "from scipy.sparse import issparse\n",
    "import scvi\n",
    "import numpy as np\n",
    "import matplotlib.pyplot as plt\n",
    "from lightning.pytorch import seed_everything\n",
    "import random\n",
    "import sys"
   ]
  },
  {
   "cell_type": "code",
   "execution_count": null,
   "id": "dad87d43-fedc-4c67-8781-28aed8176d0b",
   "metadata": {},
   "outputs": [],
   "source": [
    "random.seed(0)\n",
    "seed_everything(0)\n",
    "\n",
    "scvi.settings.seed = 0\n",
    "scvi.settings.num_workers = 32"
   ]
  },
  {
   "cell_type": "markdown",
   "id": "cb0a4dc8-c7d5-469a-8273-66e2d287ed64",
   "metadata": {},
   "source": [
    "## Set paths, import data"
   ]
  },
  {
   "cell_type": "code",
   "execution_count": null,
   "id": "b2158fa8-7c3a-428a-a7ed-e554eb2ba8ef",
   "metadata": {},
   "outputs": [],
   "source": [
    "# Base directory\n",
    "base_dir = Path(\"/path/to/tbi-seq\")\n",
    "\n",
    "# Subdirectories\n",
    "## Input\n",
    "data_dir = base_dir / \"data/h5ad\"\n",
    "\n",
    "## Output\n",
    "scvi_dir = base_dir / \"scvi/01_model\"\n",
    "output_dir = data_dir\n",
    "os.makedirs(output_dir, exist_ok=True)"
   ]
  },
  {
   "cell_type": "code",
   "execution_count": null,
   "id": "e6969248-60b8-4f7f-a47a-7e234edaad93",
   "metadata": {},
   "outputs": [],
   "source": [
    "adata = sc.read_h5ad(os.path.join(data_dir, \"03_neurons-clean.h5ad\"))"
   ]
  },
  {
   "cell_type": "code",
   "execution_count": null,
   "id": "6e3b1b8c-854a-4f5f-9b36-5f64da798637",
   "metadata": {},
   "outputs": [],
   "source": [
    "print(\"adata.X is sparse:\", issparse(adata.X))\n",
    "print(\n",
    "    \"adata.X has only whole numbers:\", np.all(adata.X.data == np.round(adata.X.data))\n",
    ")"
   ]
  },
  {
   "cell_type": "code",
   "execution_count": null,
   "id": "49ad9079-546c-4f75-90ca-1b3bf3ca791d",
   "metadata": {},
   "outputs": [],
   "source": [
    "adata.var['mt'] = adata.var_names.str.startswith('mt-')  # for mouse\n",
    "adata.var['ribosomal'] = adata.var_names.str.match(r'^(Rpl|Rps)\\d+')"
   ]
  },
  {
   "cell_type": "code",
   "execution_count": null,
   "id": "da5bea86-a5f9-4726-bbd7-d887b4e7335a",
   "metadata": {},
   "outputs": [],
   "source": [
    "sc.pp.calculate_qc_metrics(\n",
    "    adata,\n",
    "    qc_vars=['mt', 'ribosomal'],\n",
    "    percent_top=None,\n",
    "    log1p=False,\n",
    "    inplace=True\n",
    ")"
   ]
  },
  {
   "cell_type": "code",
   "execution_count": null,
   "id": "a7eed5d3-76f0-49b0-a703-30eb6200f568",
   "metadata": {},
   "outputs": [],
   "source": [
    "adata.obs.columns"
   ]
  },
  {
   "cell_type": "markdown",
   "id": "54f13cc3-7257-4bff-88d3-f3d66a84a078",
   "metadata": {},
   "source": [
    "## scVI"
   ]
  },
  {
   "cell_type": "markdown",
   "id": "e5b759c3-51e8-4fc8-91e2-e50f7550578b",
   "metadata": {},
   "source": [
    "#### Train model"
   ]
  },
  {
   "cell_type": "code",
   "execution_count": null,
   "id": "cc5e538a-dcc3-4503-aa6c-110afd658ae5",
   "metadata": {},
   "outputs": [],
   "source": [
    "# Set up AnnData for SCVI\n",
    "scvi.model.SCVI.setup_anndata(\n",
    "    adata, batch_key=\"group\"\n",
    ")"
   ]
  },
  {
   "cell_type": "code",
   "execution_count": null,
   "id": "632c1aaf-73ec-4aa1-9b56-aacd51b9b644",
   "metadata": {},
   "outputs": [],
   "source": [
    "model = scvi.model.SCVI(\n",
    "    adata,\n",
    "    gene_likelihood=\"nb\",\n",
    ")"
   ]
  },
  {
   "cell_type": "code",
   "execution_count": null,
   "id": "2a2f582c-6a33-47ce-b7f0-c094660764c3",
   "metadata": {},
   "outputs": [],
   "source": [
    "adata.obs.columns"
   ]
  },
  {
   "cell_type": "code",
   "execution_count": null,
   "id": "f18b835f-7f60-4b48-b85f-98c1e4a89d75",
   "metadata": {},
   "outputs": [],
   "source": [
    "scvi.model.SCVI.setup_anndata(\n",
    "    adata,\n",
    "    categorical_covariate_keys=['group'],\n",
    "    continuous_covariate_keys=['total_counts', 'pct_counts_mt', 'pct_counts_ribosomal'],\n",
    ")"
   ]
  },
  {
   "cell_type": "code",
   "execution_count": null,
   "id": "2f842ff8-3676-40e5-a2e3-bbffc879ac1d",
   "metadata": {},
   "outputs": [],
   "source": [
    "scvi.train.Trainer(accelerator='gpu', devices=1)\n",
    "model.train()"
   ]
  },
  {
   "cell_type": "code",
   "execution_count": null,
   "id": "7f66533b-ca9e-4894-be88-01bacb514eab",
   "metadata": {},
   "outputs": [],
   "source": [
    "model.save(scvi_dir, prefix=\"01_tbi-seq_\")"
   ]
  },
  {
   "cell_type": "code",
   "execution_count": null,
   "id": "aa7e4a96-0052-471c-b47a-78de94176c09",
   "metadata": {},
   "outputs": [],
   "source": [
    "# Visualize training loss\n",
    "plt.plot(model.history[\"elbo_train\"], label=\"Train ELBO Loss\")\n",
    "plt.plot(model.history[\"elbo_validation\"], label=\"Validation ELBO Loss\")\n",
    "plt.xlabel(\"Epoch\")\n",
    "plt.ylabel(\"Loss\")\n",
    "plt.legend()\n",
    "plt.title(\"SCVI Training Loss Curve\")\n",
    "plt.show()"
   ]
  },
  {
   "cell_type": "markdown",
   "id": "a91d3b6d-788a-449f-8258-46676f681a95",
   "metadata": {
    "jp-MarkdownHeadingCollapsed": true
   },
   "source": [
    "Extract latent representation to `adata.obsm`"
   ]
  },
  {
   "cell_type": "code",
   "execution_count": null,
   "id": "3afa7e9d-a518-443b-a50b-0fc6234b1fe1",
   "metadata": {},
   "outputs": [],
   "source": [
    "adata.obsm[\"X_scVI\"] = model.get_latent_representation(adata).astype(np.float32)\n",
    "adata.obsm[\"X_scVI\"].shape"
   ]
  },
  {
   "cell_type": "markdown",
   "id": "5e89cf63-f279-4553-acfe-4370b9081022",
   "metadata": {},
   "source": [
    "## Export"
   ]
  },
  {
   "cell_type": "code",
   "execution_count": null,
   "id": "113eb823-1ee3-40bf-914b-0890b7d476ea",
   "metadata": {},
   "outputs": [],
   "source": [
    "filename = os.path.join(\n",
    "    output_dir, \"03_neurons-clean-scvi.h5ad\"\n",
    ")\n",
    "\n",
    "os.makedirs(os.path.dirname(filename), exist_ok=True)\n",
    "\n",
    "adata.write_h5ad(filename, compression=\"gzip\")"
   ]
  }
 ],
 "metadata": {
  "kernelspec": {
   "display_name": "Python (sc-charter)",
   "language": "python",
   "name": "sc-charter"
  },
  "language_info": {
   "codemirror_mode": {
    "name": "ipython",
    "version": 3
   },
   "file_extension": ".py",
   "mimetype": "text/x-python",
   "name": "python",
   "nbconvert_exporter": "python",
   "pygments_lexer": "ipython3",
   "version": "3.12.8"
  }
 },
 "nbformat": 4,
 "nbformat_minor": 5
}
