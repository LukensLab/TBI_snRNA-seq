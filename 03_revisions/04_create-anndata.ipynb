{
 "cells": [
  {
   "cell_type": "code",
   "execution_count": null,
   "id": "4d8ff64c-c90e-4a49-b469-cf3aab0d537d",
   "metadata": {},
   "outputs": [],
   "source": [
    "import os\n",
    "import sys\n",
    "import scanpy as sc\n",
    "import pandas as pd\n",
    "import matplotlib.pyplot as plt\n",
    "import numpy as np"
   ]
  },
  {
   "cell_type": "code",
   "execution_count": null,
   "id": "facc2257-d872-4804-8c09-b4ee0b1560b2",
   "metadata": {},
   "outputs": [],
   "source": [
    "adata_path = '/path/to/data/soupx_combined.h5ad'\n",
    "adata = sc.read_h5ad(adata_path)\n",
    "\n",
    "csv_path = '/path/to/data/solo_output/solo_predictions.csv'\n",
    "df = pd.read_csv(csv_path, index_col=0)\n",
    "\n",
    "output_dir = os.path.join('/path/to/data/h5ad')\n",
    "os.makedirs(output_dir, exist_ok=True)"
   ]
  },
  {
   "cell_type": "code",
   "execution_count": null,
   "id": "2cba76d6-822f-445f-8fc6-aaf9ef2cea3a",
   "metadata": {},
   "outputs": [],
   "source": [
    "metadata = {\n",
    "    '1':  {'group': 'Sham-GFP', 'group_id': 'A', 'condition': 'Sham', 'treatment': 'GFP',   'side': 'Ipsilateral'},\n",
    "    '3':  {'group': 'Sham-VEGFC', 'group_id': 'B', 'condition': 'Sham', 'treatment': 'VEGFC', 'side': 'Ipsilateral'},\n",
    "    '5':  {'group': 'TBI-GFP', 'group_id': 'C', 'condition': 'TBI',  'treatment': 'GFP',   'side': 'Ipsilateral'},\n",
    "    '6':  {'group': 'TBI-GFP', 'group_id': 'D', 'condition': 'TBI',  'treatment': 'GFP',   'side': 'Contralateral'},\n",
    "    '7':  {'group': 'TBI-VEGFC', 'group_id': 'E', 'condition': 'TBI',  'treatment': 'VEGFC', 'side': 'Ipsilateral'},\n",
    "    '8':  {'group': 'TBI-VEGFC', 'group_id': 'F', 'condition': 'TBI',  'treatment': 'VEGFC', 'side': 'Contralateral'},\n",
    "}\n",
    "\n",
    "for key in ['group', 'condition', 'treatment', 'side']:\n",
    "    adata.obs[key] = adata.obs['sample_id'].map({k: v[key] for k, v in metadata.items()})"
   ]
  },
  {
   "cell_type": "code",
   "execution_count": null,
   "id": "9a8bba3f-de4d-4e8e-aa1d-c83e5261da23",
   "metadata": {},
   "outputs": [],
   "source": [
    "# Add SOLO results to Anndata\n",
    "\n",
    "## Formatting\n",
    "adata.obs['sample_id'] = adata.obs['sample_id'].astype(str)\n",
    "adata.obs_names = adata.obs_names + '-' + adata.obs['sample_id']\n",
    "\n",
    "## Load predictions\n",
    "csv_path = '/path/to/data/solo_output/solo_predictions.csv'\n",
    "df = pd.read_csv(csv_path, index_col=0)\n",
    "\n",
    "df['sample_id'] = df['sample_id'].astype(str)\n",
    "df.index = df.index + '-' + df['sample_id']\n",
    "\n",
    "## Align\n",
    "adata.obs['solo_prediction'] = df.loc[adata.obs_names, 'prediction'].values\n",
    "# adata = adata[adata.obs['solo_prediction'] == 'singlet'].copy()\n",
    "adata.obs.solo_prediction.value_counts()"
   ]
  },
  {
   "cell_type": "code",
   "execution_count": null,
   "id": "2177b95a-1057-4373-9e65-52c81bcc91dd",
   "metadata": {},
   "outputs": [],
   "source": [
    "ptprc_expr = adata[:, 'Ptprc'].X.toarray().flatten()\n",
    "adata_cd45 = adata[ptprc_expr > 0].copy()"
   ]
  },
  {
   "cell_type": "code",
   "execution_count": null,
   "id": "ff4b9101-9620-4cb9-a0f1-e54d72ea4191",
   "metadata": {},
   "outputs": [],
   "source": [
    "# Export\n",
    "adata.write_h5ad(os.path.join(output_dir, '01_adata_all.h5ad'), compression='gzip')\n",
    "adata_cd45.write_h5ad(os.path.join(output_dir, '01_adata_cd45.h5ad'), compression='gzip')"
   ]
  }
 ],
 "metadata": {
  "kernelspec": {
   "display_name": "sc-spatial",
   "language": "python",
   "name": "sc-spatial"
  },
  "language_info": {
   "codemirror_mode": {
    "name": "ipython",
    "version": 3
   },
   "file_extension": ".py",
   "mimetype": "text/x-python",
   "name": "python",
   "nbconvert_exporter": "python",
   "pygments_lexer": "ipython3",
   "version": "3.12.2"
  }
 },
 "nbformat": 4,
 "nbformat_minor": 5
}
