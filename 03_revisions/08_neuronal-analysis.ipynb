{
 "cells": [
  {
   "cell_type": "code",
   "execution_count": null,
   "id": "de79e44f-f6e7-41b1-bae0-9e7f8c90b2df",
   "metadata": {},
   "outputs": [],
   "source": [
    "import os\n",
    "import sys\n",
    "from pathlib import Path\n",
    "import scanpy as sc\n",
    "import pandas as pd\n",
    "import numpy as np\n",
    "import matplotlib\n",
    "import matplotlib.pyplot as plt\n",
    "import matplotlib.colors as mcolors \n",
    "import matplotlib.patches as mpatches\n",
    "import seaborn as sns"
   ]
  },
  {
   "cell_type": "code",
   "execution_count": null,
   "id": "93ccc28d-4435-4994-b604-33862112129c",
   "metadata": {},
   "outputs": [],
   "source": [
    "import matplotlib as mpl\n",
    "mpl.rcParams['pdf.fonttype'] = 42"
   ]
  },
  {
   "cell_type": "code",
   "execution_count": null,
   "id": "92cd8e33-9668-4e64-b5db-cdb24223e072",
   "metadata": {},
   "outputs": [],
   "source": [
    "plt.rcParams[\"figure.figsize\"] = (4, 4)"
   ]
  },
  {
   "cell_type": "code",
   "execution_count": null,
   "id": "fba37748-5c9f-45b5-9456-1ec6dfe9bb42",
   "metadata": {},
   "outputs": [],
   "source": [
    "plt.rcParams[\"figure.dpi\"] = 500"
   ]
  },
  {
   "cell_type": "code",
   "execution_count": null,
   "id": "f50ebfa5-da3d-4405-ab25-a9a3ce47620b",
   "metadata": {},
   "outputs": [],
   "source": [
    "#plt.rcParams[\"font.size\"] = 24"
   ]
  },
  {
   "cell_type": "markdown",
   "id": "2dd46daa-86b3-421c-a7d0-b7d2c4a65318",
   "metadata": {},
   "source": [
    "## Import data"
   ]
  },
  {
   "cell_type": "code",
   "execution_count": null,
   "id": "08ae720d-7809-4573-a7a0-7646e746fa48",
   "metadata": {},
   "outputs": [],
   "source": [
    "base_dir = Path(\"/path/to/tbi-seq\")\n",
    "\n",
    "## Input\n",
    "data_dir = base_dir / \"data/h5ad\"\n",
    "csv_dir = base_dir / \"data/mapmycells\"\n",
    "\n",
    "## Output\n",
    "output_dir = data_dir\n",
    "outs = base_dir / \"results\"\n",
    "fig_dir = outs / \"figures\"\n",
    "os.makedirs(output_dir, exist_ok=True)\n",
    "os.makedirs(outs, exist_ok=True)\n",
    "os.makedirs(fig_dir, exist_ok=True)"
   ]
  },
  {
   "cell_type": "code",
   "execution_count": null,
   "id": "9804780b-25cb-44f3-b0d3-e8b4a2ecf368",
   "metadata": {},
   "outputs": [],
   "source": [
    "sc.settings.figdir = fig_dir"
   ]
  },
  {
   "cell_type": "code",
   "execution_count": null,
   "id": "8672afc6-fbfb-4b54-a545-c33708e043c6",
   "metadata": {},
   "outputs": [],
   "source": [
    "sc.settings.figdir = fig_dir"
   ]
  },
  {
   "cell_type": "code",
   "execution_count": null,
   "id": "e75902c1-a23b-4a13-a829-09df25644df7",
   "metadata": {},
   "outputs": [],
   "source": [
    "adata = sc.read_h5ad(os.path.join(data_dir, \"03_neurons-clean-scvi.h5ad\"))"
   ]
  },
  {
   "cell_type": "code",
   "execution_count": null,
   "id": "1ea8df0b-90e9-402c-8681-e3aaa374f258",
   "metadata": {},
   "outputs": [],
   "source": [
    "metadata = {\n",
    "    '1':  {'group': 'Sham-GFP', 'group_id': 'A', 'condition': 'Sham', 'treatment': 'GFP',   'side': 'Ipsilateral'},\n",
    "    '3':  {'group': 'Sham-VEGFC', 'group_id': 'B', 'condition': 'Sham', 'treatment': 'VEGFC', 'side': 'Ipsilateral'},\n",
    "    '5':  {'group': 'TBI-GFP', 'group_id': 'C', 'condition': 'TBI',  'treatment': 'GFP',   'side': 'Ipsilateral'},\n",
    "    '6':  {'group': 'TBI-GFP', 'group_id': 'D', 'condition': 'TBI',  'treatment': 'GFP',   'side': 'Contralateral'},\n",
    "    '7':  {'group': 'TBI-VEGFC', 'group_id': 'E', 'condition': 'TBI',  'treatment': 'VEGFC', 'side': 'Ipsilateral'},\n",
    "    '8':  {'group': 'TBI-VEGFC', 'group_id': 'F', 'condition': 'TBI',  'treatment': 'VEGFC', 'side': 'Contralateral'},\n",
    "}\n",
    "\n",
    "for key in ['group', 'group_id', 'condition', 'treatment', 'side']:\n",
    "    adata.obs[key] = adata.obs['sample_id'].map({k: v[key] for k, v in metadata.items()})\n",
    "\n",
    "adata.obs.group.value_counts()"
   ]
  },
  {
   "cell_type": "code",
   "execution_count": null,
   "id": "9f0365e8-bf62-40e1-962c-2092c7f0173f",
   "metadata": {},
   "outputs": [],
   "source": [
    "adata.obs.group_id.value_counts()"
   ]
  },
  {
   "cell_type": "code",
   "execution_count": null,
   "id": "c5bc1351-a998-47a5-881a-bba91be59c9f",
   "metadata": {},
   "outputs": [],
   "source": [
    "adata.layers['counts'] = adata.X.copy()\n",
    "sc.pp.normalize_total(adata)\n",
    "adata.layers['normalized'] = adata.X.copy()\n",
    "sc.pp.log1p(adata)\n",
    "adata.layers['log1p'] = adata.X.copy()\n",
    "adata.raw = adata.copy()"
   ]
  },
  {
   "cell_type": "code",
   "execution_count": null,
   "id": "593a22ad-c33c-465d-ac6b-ef61e7e730fe",
   "metadata": {},
   "outputs": [],
   "source": [
    "adata.obs['cell_class'] = adata.obs['cell_type'].copy()"
   ]
  },
  {
   "cell_type": "code",
   "execution_count": null,
   "id": "c93e8900-654e-470b-b308-85975615b2dc",
   "metadata": {},
   "outputs": [],
   "source": [
    "labels_df = pd.read_csv(\n",
    "    os.path.join(csv_dir, '03_neurons-clean_10xWholeMouseBrain(CCN20230722)_HierarchicalMapping_UTC_1749244668001.csv'),\n",
    "    skiprows=4\n",
    ")"
   ]
  },
  {
   "cell_type": "code",
   "execution_count": null,
   "id": "3942236f-7d7b-41c9-acb9-cb0d033fa14d",
   "metadata": {},
   "outputs": [],
   "source": [
    "sc.pp.neighbors(adata, use_rep=\"X_scVI\")\n",
    "sc.tl.umap(adata)\n",
    "sc.tl.leiden(adata, resolution=1, key_added=\"leiden\")"
   ]
  },
  {
   "cell_type": "code",
   "execution_count": null,
   "id": "7732e5d0-aa94-48c4-9f7c-0dadbba18388",
   "metadata": {},
   "outputs": [],
   "source": [
    "sc.pl.umap(adata, color=\"leiden\")"
   ]
  },
  {
   "cell_type": "markdown",
   "id": "62619ae5-ee9b-452a-bf4a-9f6d0e9fa8e2",
   "metadata": {},
   "source": [
    "## Merge mapmycells annotations"
   ]
  },
  {
   "cell_type": "code",
   "execution_count": null,
   "id": "4f4cb471-34a2-41cf-a55a-c0e01d0c464e",
   "metadata": {},
   "outputs": [],
   "source": [
    "print(adata.obs_names[:5])\n",
    "print(labels_df['cell_id'].head())"
   ]
  },
  {
   "cell_type": "code",
   "execution_count": null,
   "id": "9b9f131a-aae1-4ba6-b42a-6ec5ba102d2d",
   "metadata": {},
   "outputs": [],
   "source": [
    "labels_df = labels_df.set_index('cell_id')\n",
    "\n",
    "columns_to_map = [\n",
    "    'class_label', 'class_name', 'class_bootstrapping_probability',\n",
    "    'subclass_label', 'subclass_name', 'subclass_bootstrapping_probability',\n",
    "    'supertype_label', 'supertype_name', 'supertype_bootstrapping_probability',\n",
    "    'cluster_label', 'cluster_name', 'cluster_alias', 'cluster_bootstrapping_probability'\n",
    "]\n",
    "\n",
    "for col in columns_to_map:\n",
    "    adata.obs[col] = adata.obs_names.map(labels_df[col])\n",
    "\n",
    "#print(adata.obs[columns_to_map].head())"
   ]
  },
  {
   "cell_type": "code",
   "execution_count": null,
   "id": "3862f81e-4e42-4d59-bc38-23e84fe49e1a",
   "metadata": {},
   "outputs": [],
   "source": [
    "adata"
   ]
  },
  {
   "cell_type": "code",
   "execution_count": null,
   "id": "3f5ef68f-2b69-4d57-9df8-2d178402fa75",
   "metadata": {},
   "outputs": [],
   "source": [
    "sc.pl.umap(adata, color=['supertype_bootstrapping_probability', \n",
    "                         'subclass_bootstrapping_probability', \n",
    "                         'class_bootstrapping_probability'], cmap='viridis', wspace=0.4)"
   ]
  },
  {
   "cell_type": "code",
   "execution_count": null,
   "id": "f579b98e-3d13-42a2-b73a-243183c626d6",
   "metadata": {},
   "outputs": [],
   "source": [
    "adata.obs['subclass_name'].value_counts()"
   ]
  },
  {
   "cell_type": "markdown",
   "id": "efc852ac-0206-41a1-a3ab-48117154afb3",
   "metadata": {},
   "source": [
    "# assign labels to clusters "
   ]
  },
  {
   "cell_type": "code",
   "execution_count": null,
   "id": "81d033fc-628b-458c-8280-12c3876f7e8e",
   "metadata": {},
   "outputs": [],
   "source": [
    "# Compute majority subclass_label per Leiden cluster\n",
    "majority_subclass_per_cluster = (\n",
    "    adata.obs.groupby('leiden')['subclass_name']\n",
    "    .agg(lambda x: x.value_counts().idxmax())\n",
    ")\n",
    "\n",
    "# Map from leiden cluster to majority subclass_label\n",
    "adata.obs['cell_type'] = adata.obs['leiden'].map(majority_subclass_per_cluster)\n",
    "\n",
    "# Check result\n",
    "print(adata.obs[['leiden', 'cell_type']].head())"
   ]
  },
  {
   "cell_type": "code",
   "execution_count": null,
   "id": "45bd38a4-00fa-4985-a999-016c29ea98c7",
   "metadata": {},
   "outputs": [],
   "source": [
    "# Clean up the 'cell_type' column\n",
    "adata.obs['cell_type'] = adata.obs['cell_type'].astype('category')\n",
    "adata.obs['cell_type'] = adata.obs['cell_type'].cat.remove_unused_categories()\n",
    "\n",
    "# Order categories by abundance\n",
    "cell_type_counts = adata.obs['cell_type'].value_counts()\n",
    "ordered_categories = cell_type_counts.index.tolist()\n",
    "\n",
    "# Reorder the categories accordingly\n",
    "adata.obs['cell_type'] = adata.obs['cell_type'].cat.reorder_categories(ordered_categories, ordered=True)\n",
    "\n",
    "# Generate HUSL colors and assign to adata.uns\n",
    "husl_colors = sns.color_palette('husl', n_colors=len(ordered_categories))\n",
    "adata.uns['cell_type_colors'] = [mcolors.to_hex(c) for c in husl_colors]\n",
    "\n",
    "# Plot UMAP with new colors\n",
    "sc.pl.umap(adata, color=['leiden', 'Slc17a6', 'Slc17a7', 'Gad1', 'Gad2', 'cell_type'])"
   ]
  },
  {
   "cell_type": "code",
   "execution_count": null,
   "id": "39d707a9-e83f-46be-9584-d5c3969a1016",
   "metadata": {},
   "outputs": [],
   "source": [
    "adata.obs.cell_type.value_counts()"
   ]
  },
  {
   "cell_type": "code",
   "execution_count": null,
   "id": "0748ee07-e80b-47a5-83b8-917cc5c834d7",
   "metadata": {},
   "outputs": [],
   "source": [
    "# Count the number of cells per cell_type\n",
    "cell_type_counts = adata.obs['cell_type'].value_counts().reset_index()\n",
    "cell_type_counts.columns = ['cell_type', 'count']\n",
    "\n",
    "# Optional: Sort by count (descending)\n",
    "cell_type_counts = cell_type_counts.sort_values('count', ascending=False)\n",
    "\n",
    "# Plot\n",
    "plt.figure(figsize=(10, 8))\n",
    "sns.barplot(data=cell_type_counts, y='cell_type', x='count', palette='viridis')\n",
    "\n",
    "# Aesthetics\n",
    "plt.title('Cell type composition (MapMyCells subclass labels)', fontsize=16)\n",
    "plt.xlabel('Number of cells', fontsize=14)\n",
    "plt.ylabel('Cell type', fontsize=14)\n",
    "plt.xticks(fontsize=12)\n",
    "plt.yticks(fontsize=12)\n",
    "\n",
    "plt.tight_layout()\n",
    "plt.show()"
   ]
  },
  {
   "cell_type": "markdown",
   "id": "6d9083e5-80d8-4de6-b855-3c181d7fd6ca",
   "metadata": {},
   "source": [
    "## Annotate hippocampal vs border/input neurons"
   ]
  },
  {
   "cell_type": "code",
   "execution_count": null,
   "id": "2a0456e9-de27-469f-87cd-965431f1ba0c",
   "metadata": {},
   "outputs": [],
   "source": [
    "# Categorize cells into Hippocampus / Border-Input groups\n",
    "\n",
    "# Hippocampal core subclasses (reviewer specified: CA1, CA2, CA3, DG, SUB, CR)\n",
    "hippocampus_core = [\n",
    "    \"037 DG Glut\",\n",
    "    \"016 CA1-ProS Glut\",\n",
    "    \"025 CA2-FC-IG Glut\",\n",
    "    \"017 CA3 Glut\",\n",
    "    \"023 SUB-ProS Glut\",\n",
    "    \"033 NP SUB Glut\",\n",
    "    \"HPF CR Glut\",   # CR neurons, if present\n",
    "]\n",
    "\n",
    "# Hippocampal interneurons\n",
    "hippocampus_interneurons = [\n",
    "    \"053 Sst Gaba\",\n",
    "    \"052 Pvalb Gaba\",\n",
    "    \"050 Lamp5 Lhx6 Gaba\",\n",
    "    \"046 Vip Gaba\",\n",
    "    \"049 Lamp5 Gaba\",\n",
    "]\n",
    "\n",
    "# Assign cells to region categories\n",
    "def assign_region(cell_type):\n",
    "    if cell_type in hippocampus_core or cell_type in hippocampus_interneurons:\n",
    "        return \"Hippocampal neurons\"\n",
    "    else:\n",
    "        return \"Border/Input neurons\"\n",
    "\n",
    "adata.obs[\"region_assignment\"] = adata.obs[\"cell_type\"].apply(assign_region)\n",
    "adata.obs[\"region_assignment\"] = adata.obs[\"region_assignment\"].astype(\"category\")\n",
    "\n",
    "# Subset hippocampus only\n",
    "adata_hippocampus_only = adata[adata.obs[\"region_assignment\"] == \"Hippocampal neurons\"].copy()\n",
    "\n",
    "# PLOT 1: UMAP of hippocampus only\n",
    "sc.pl.umap(\n",
    "    adata_hippocampus_only,\n",
    "    color=\"cell_type\",\n",
    "    legend_loc=\"on data\",\n",
    "    title=\"Hippocampus - Cell Types\"\n",
    ")\n",
    "\n",
    "# PLOT 2: UMAP of all cells colored by region assignment\n",
    "region_palette = {\n",
    "    \"Hippocampal neurons\": \"#1f77b4\",   # blue\n",
    "    \"Border/Input neurons\": \"#d62728\",  # red\n",
    "}\n",
    "\n",
    "sc.pl.umap(\n",
    "    adata,\n",
    "    color=\"region_assignment\",\n",
    "    palette=region_palette,\n",
    "    title=\"Region Assignment (All Cells)\"\n",
    ")\n",
    "\n",
    "# PLOT 3: Barplot of region_assignment counts\n",
    "region_counts = adata.obs[\"region_assignment\"].value_counts().reset_index()\n",
    "region_counts.columns = [\"region_assignment\", \"count\"]\n",
    "\n",
    "plt.figure(figsize=(7, 5))\n",
    "sns.barplot(\n",
    "    data=region_counts,\n",
    "    x=\"region_assignment\",\n",
    "    y=\"count\",\n",
    "    palette=region_palette\n",
    ")\n",
    "\n",
    "plt.title(\"Region Assignment - Cell Counts\")\n",
    "plt.xlabel(\"Region Assignment\")\n",
    "plt.ylabel(\"Number of Cells\")\n",
    "plt.xticks(rotation=20)\n",
    "plt.tight_layout()\n",
    "plt.show()"
   ]
  },
  {
   "cell_type": "code",
   "execution_count": null,
   "id": "a696953c-1ea4-4a3f-af91-8ec7edbff1f2",
   "metadata": {},
   "outputs": [],
   "source": [
    "# Inner ring\n",
    "region_counts = adata.obs['region_assignment'].value_counts()\n",
    "region_palette = {\n",
    "    'Hippocampal neurons': '#4d4d4d',   # now dark gray\n",
    "    'Border/Input neurons': '#d9d9d9',  # now light gray\n",
    "}\n",
    "region_colors = [region_palette[r] for r in region_counts.index]\n",
    "\n",
    "# cell_type counts by region\n",
    "ct = pd.crosstab(adata.obs['region_assignment'], adata.obs['cell_type'])\n",
    "hip_cell_types = [c for c in ct.columns if ct.loc['Hippocampal neurons', c] > 0]\n",
    "bdr_cell_types = [c for c in ct.columns if ct.loc['Border/Input neurons', c] > 0]\n",
    "\n",
    "# Build divergent palettes\n",
    "full_rocket = sns.color_palette(\"rocket_r\", 256)\n",
    "idx = np.linspace(20, 220, len(hip_cell_types), dtype=int)\n",
    "hip_pal = [full_rocket[i] for i in idx]\n",
    "bdr_pal = sns.color_palette(\"mako\", n_colors=len(bdr_cell_types))[::-1]\n",
    "\n",
    "# Map each cell_type to color\n",
    "cell_type_to_color = {}\n",
    "for name, col in zip(hip_cell_types, hip_pal):\n",
    "    cell_type_to_color[name] = matplotlib.colors.to_hex(col)\n",
    "for name, col in zip(bdr_cell_types, bdr_pal):\n",
    "    cell_type_to_color[name] = matplotlib.colors.to_hex(col)\n",
    "\n",
    "# Build outer_counts/colors\n",
    "outer_counts, outer_colors = [], []\n",
    "for region in region_counts.index:\n",
    "    for name, cnt in ct.loc[region].items():\n",
    "        if cnt > 0:\n",
    "            outer_counts.append(cnt)\n",
    "            outer_colors.append(cell_type_to_color[name])\n",
    "\n",
    "# Plot multi‐layer donut\n",
    "fig, ax = plt.subplots(figsize=(6, 6))\n",
    "\n",
    "ax.pie(\n",
    "    region_counts,\n",
    "    radius=0.7,\n",
    "    colors=region_colors,\n",
    "    startangle=160,\n",
    "    wedgeprops=dict(width=0.3, edgecolor='white'),\n",
    "    labels=None,\n",
    "    autopct='%1.0f%%',\n",
    "    pctdistance=0.30,\n",
    "    textprops={'color': 'black', 'fontsize': 25}\n",
    ")\n",
    "\n",
    "# Outer ring\n",
    "ax.pie(\n",
    "    outer_counts,\n",
    "    radius=1.0,\n",
    "    colors=outer_colors,\n",
    "    startangle=160,\n",
    "    wedgeprops=dict(width=0.3, edgecolor='white')\n",
    ")\n",
    "\n",
    "# White center circle\n",
    "centre = plt.Circle((0, 0), 0.4, fc='white')\n",
    "ax.add_artist(centre)\n",
    "\n",
    "ax.set_title('Anatomical Assignment and Cell Type Composition', fontsize=16)\n",
    "plt.tight_layout()\n",
    "\n",
    "export_path = fig_dir / \"anatomical_assignment_donut.pdf\"\n",
    "fig.savefig(export_path, bbox_inches='tight')\n",
    "plt.show()"
   ]
  },
  {
   "cell_type": "code",
   "execution_count": null,
   "id": "cc1ded31-3205-4b74-92ba-7a2bc34e0d2d",
   "metadata": {},
   "outputs": [],
   "source": [
    "# Compute top 5 cell types in each anatomical category\n",
    "top5 = {}\n",
    "for region in ['Hippocampal neurons','Border/Input neurons']:\n",
    "    counts = (\n",
    "        adata.obs[adata.obs['region_assignment'] == region]\n",
    "        .groupby('cell_type')\n",
    "        .size()\n",
    "        .sort_values(ascending=False)\n",
    "    )\n",
    "    top5[region] = counts.head(5).index.tolist()\n",
    "\n",
    "print(\"Top 5 cell types for Border/Input neurons:\")\n",
    "print(top5['Border/Input neurons'])\n",
    "print()\n",
    "print(\"Top 5 cell types for Hippocampal neurons:\")\n",
    "print(top5['Hippocampal neurons'])"
   ]
  },
  {
   "cell_type": "code",
   "execution_count": null,
   "id": "54252e45-9aec-4365-b39e-995de50d0943",
   "metadata": {},
   "outputs": [],
   "source": [
    "# recompute palette\n",
    "ct = pd.crosstab(adata.obs['region_assignment'], adata.obs['cell_type'])\n",
    "hip_cell_types = [c for c in ct.columns if ct.loc['Hippocampal neurons', c] > 0]\n",
    "bdr_cell_types = [c for c in ct.columns if ct.loc['Border/Input neurons', c] > 0]\n",
    "\n",
    "full_rocket = sns.color_palette(\"rocket_r\", 256)\n",
    "idx = np.linspace(20, 220, len(hip_cell_types), dtype=int)\n",
    "hip_pal = [full_rocket[i] for i in idx]\n",
    "bdr_pal = sns.color_palette(\"mako\", n_colors=len(bdr_cell_types))[::-1]\n",
    "\n",
    "cell_type_to_color = {}\n",
    "for name, col in zip(hip_cell_types, hip_pal):\n",
    "    cell_type_to_color[name] = matplotlib.colors.to_hex(col)\n",
    "for name, col in zip(bdr_cell_types, bdr_pal):\n",
    "    cell_type_to_color[name] = matplotlib.colors.to_hex(col)\n",
    "\n",
    "top5 = {\n",
    "    'Hippocampal neurons': ['037 DG Glut', '016 CA1-ProS Glut',\n",
    "                             '017 CA3 Glut', '053 Sst Gaba',\n",
    "                             '052 Pvalb Gaba'],\n",
    "    'Border/Input neurons': ['028 L6b/CT ENT Glut', '019 L2/3 IT PPP Glut',\n",
    "                             '113 MEA-COA-BMA Ccdc42 Glut',\n",
    "                             '070 LSX Prdm12 Slit2 Gaba',\n",
    "                             '071 LSX Prdm12 Zeb2 Gaba']\n",
    "}\n",
    "\n",
    "hip_handles = [mpatches.Patch(color=cell_type_to_color[l], label=l)\n",
    "               for l in top5['Hippocampal neurons']]\n",
    "bdr_handles = [mpatches.Patch(color=cell_type_to_color[l], label=l)\n",
    "               for l in top5['Border/Input neurons']]\n",
    "\n",
    "fig, ax = plt.subplots(figsize=(12, 4))  # slightly narrower\n",
    "ax.axis('off')\n",
    "\n",
    "legend_kwargs = dict(\n",
    "    frameon=False,\n",
    "    fontsize=18,\n",
    "    title_fontsize=20,\n",
    "    handlelength=2.5,\n",
    "    handleheight=1.0,\n",
    "    labelspacing=1.2\n",
    ")\n",
    "\n",
    "# Move legend\n",
    "legend1 = ax.legend(\n",
    "    handles=hip_handles,\n",
    "    title='Hippocampal neurons\\n(top 5)',\n",
    "    loc='center left',\n",
    "    bbox_to_anchor=(0.10, 0.5),\n",
    "    **legend_kwargs\n",
    ")\n",
    "ax.add_artist(legend1)\n",
    "\n",
    "legend2 = ax.legend(\n",
    "    handles=bdr_handles,\n",
    "    title='Border/Input neurons\\n(top 5)',\n",
    "    loc='center right',\n",
    "    bbox_to_anchor=(0.90, 0.5),\n",
    "    **legend_kwargs\n",
    ")\n",
    "\n",
    "plt.tight_layout()\n",
    "export_path = fig_dir / \"anatomical_assignment_donut_legend.pdf\"\n",
    "fig.savefig(export_path, bbox_inches='tight')\n",
    "plt.show()"
   ]
  },
  {
   "cell_type": "code",
   "execution_count": null,
   "id": "473a31a4-d6b5-4a37-9340-3c9fae6be96b",
   "metadata": {},
   "outputs": [],
   "source": [
    "region_palette = {\n",
    "    'Hippocampal neurons': '#4d4d4d',   # dark gray\n",
    "    'Border/Input neurons': '#d9d9d9',  # light gray\n",
    "}\n",
    "\n",
    "# Build legend handles\n",
    "legend_handles_region = [\n",
    "    mpatches.Patch(color=color, label=label)\n",
    "    for label, color in region_palette.items()\n",
    "]\n",
    "\n",
    "# Legend style kwargs\n",
    "legend_kwargs = dict(\n",
    "    frameon=False,\n",
    "    fontsize=20,\n",
    "    title_fontsize=24,\n",
    "    handlelength=2.5,\n",
    "    handleheight=1.0,\n",
    "    labelspacing=1.2\n",
    ")\n",
    "\n",
    "# Plot standalone legend\n",
    "fig, ax = plt.subplots(figsize=(4, 3))\n",
    "ax.axis('off')\n",
    "\n",
    "ax.legend(\n",
    "    handles=legend_handles_region,\n",
    "    title='Anatomical Assignment',\n",
    "    loc='center',\n",
    "    **legend_kwargs\n",
    ")\n",
    "\n",
    "plt.tight_layout()\n",
    "export_path = fig_dir / \"anatomical_assignment_umap_legend.pdf\"\n",
    "fig.savefig(export_path, bbox_inches='tight')\n",
    "plt.show()"
   ]
  },
  {
   "cell_type": "code",
   "execution_count": null,
   "id": "390022fb-f90f-496f-9e38-9c5fe775e1fb",
   "metadata": {},
   "outputs": [],
   "source": [
    "sc.pl.umap(adata, \n",
    "           color='region_assignment', \n",
    "           palette=region_palette, title='', \n",
    "           frameon = False,\n",
    "          save = \"anatomical_assignment_umap_legend.pdf\")"
   ]
  },
  {
   "cell_type": "code",
   "execution_count": null,
   "id": "72f38885-1446-48b9-874f-4fdedf8fd8db",
   "metadata": {},
   "outputs": [],
   "source": [
    "sc.pl.umap(adata, color='cell_type', legend_loc=None, frameon = False, title = '',\n",
    "          save = 'cell_type.pdf') "
   ]
  },
  {
   "cell_type": "code",
   "execution_count": null,
   "id": "98712ba4-e5ac-404d-b35d-d1a6b1724765",
   "metadata": {},
   "outputs": [],
   "source": [
    "#Plot legend\n",
    "categories = adata.obs['cell_type'].cat.categories\n",
    "colors = adata.uns['cell_type_colors']\n",
    "\n",
    "handles = [mpatches.Patch(color=col, label=cat) for col, cat in zip(colors, categories)]\n",
    "\n",
    "fig, ax = plt.subplots(figsize=(6, len(categories) * 0.3)) \n",
    "ax.legend(handles=handles, loc='center', frameon=False, ncol=2)\n",
    "ax.axis('off')\n",
    "plt.tight_layout()\n",
    "export_path = fig_dir / \"cell_type_legend.pdf\"\n",
    "fig.savefig(export_path, bbox_inches='tight')\n",
    "plt.show()"
   ]
  },
  {
   "cell_type": "code",
   "execution_count": null,
   "id": "5b28375c-2083-4010-bcdd-f31592c95938",
   "metadata": {},
   "outputs": [],
   "source": [
    "# plot legend\n",
    "categories = adata.obs['region_assignment'].cat.categories\n",
    "colors = adata.uns['region_assignment_colors']\n",
    "\n",
    "handles = [mpatches.Patch(color=col, label=cat) for col, cat in zip(colors, categories)]\n",
    "\n",
    "fig, ax = plt.subplots(figsize=(6, len(categories) * 0.3)) \n",
    "ax.legend(handles=handles, loc='center', frameon=False, ncol=1)\n",
    "ax.axis('off')\n",
    "plt.tight_layout()\n",
    "plt.show()"
   ]
  },
  {
   "cell_type": "code",
   "execution_count": null,
   "id": "980e831e-0fc2-47a4-8ff2-792cc90fa297",
   "metadata": {},
   "outputs": [],
   "source": [
    "border_input_counts = (\n",
    "    adata.obs[adata.obs['region_assignment'] == 'Input / border']\n",
    "    .assign(cell_type_str = adata.obs['cell_type'].astype(str))  # convert to string for clean grouping\n",
    "    .groupby('cell_type_str')\n",
    "    .size()\n",
    "    .reset_index(name='count')\n",
    "    .sort_values('count', ascending=False)\n",
    ")\n",
    "\n",
    "#border_input_counts = border_input_counts[border_input_counts['count'] > 0]\n",
    "\n",
    "plt.figure(figsize=(5, 6))\n",
    "sns.barplot(data=border_input_counts, y='cell_type_str', x='count', palette='viridis_r')\n",
    "\n",
    "plt.title('Neuron Subtypes', fontsize=16)\n",
    "plt.xlabel('Number of cells', fontsize=14)\n",
    "plt.ylabel('Cell type', fontsize=14)\n",
    "plt.xticks(fontsize=12)\n",
    "plt.yticks(fontsize=12)\n",
    "\n",
    "plt.tight_layout()\n",
    "plt.show()"
   ]
  },
  {
   "cell_type": "code",
   "execution_count": null,
   "id": "348a4e88-28e0-45bc-9782-bf36d84dbeed",
   "metadata": {},
   "outputs": [],
   "source": [
    "border_input_counts = (\n",
    "    adata.obs[adata.obs['region_assignment'] == 'Input / border']\n",
    "    .groupby('cell_type')\n",
    "    .size()\n",
    "    .sort_values(ascending=False)\n",
    ")\n",
    "\n",
    "print(border_input_counts)"
   ]
  },
  {
   "cell_type": "code",
   "execution_count": null,
   "id": "c49c948a-e30b-455a-bac8-e6752c28ac6b",
   "metadata": {},
   "outputs": [],
   "source": [
    "adata.obs.columns"
   ]
  },
  {
   "cell_type": "markdown",
   "id": "cd78a07b-41fc-48b8-abb6-83c678a08ff0",
   "metadata": {},
   "source": [
    "# markers"
   ]
  },
  {
   "cell_type": "code",
   "execution_count": null,
   "id": "e7b17ba7-a224-4a35-8fab-dd252ec9a998",
   "metadata": {},
   "outputs": [],
   "source": [
    "adata_subset = adata[adata.obs['region_assignment'] == 'Hippocampal neurons'].copy()\n",
    "\n",
    "print(\"Cells in hippocampus subset:\", adata_subset.n_obs)\n",
    "print(adata_subset.obs['region_assignment'].value_counts())\n",
    "\n",
    "# Top 10 hippocampal subtypes\n",
    "cell_type_counts = adata_subset.obs['cell_type'].value_counts()\n",
    "top10_cell_types = cell_type_counts.index[:10].tolist()\n",
    "\n",
    "print(\"Top10 cell types in hippocampus:\", top10_cell_types)\n",
    "print(cell_type_counts.head(10))"
   ]
  },
  {
   "cell_type": "code",
   "execution_count": null,
   "id": "9d5807cc-58e1-4fef-a4d5-317a3b9dc69a",
   "metadata": {},
   "outputs": [],
   "source": [
    "adata.obs.columns"
   ]
  },
  {
   "cell_type": "code",
   "execution_count": null,
   "id": "08281657-6afa-45c8-858f-3035fd160c7c",
   "metadata": {},
   "outputs": [],
   "source": [
    "sc.pl.umap(adata_subset, color = ['cell_type'])"
   ]
  },
  {
   "cell_type": "code",
   "execution_count": null,
   "id": "93d0bff3-ef25-4053-836e-8d779c8ddfa6",
   "metadata": {},
   "outputs": [],
   "source": [
    "adata_subset"
   ]
  },
  {
   "cell_type": "code",
   "execution_count": null,
   "id": "8c5cfd43-af32-4432-bb8a-9284799590d5",
   "metadata": {},
   "outputs": [],
   "source": [
    "subclass_markers = {\n",
    "    \"037 DG Glut\":       [\"Prox1\", \"Itpka\",  \"C1ql3\", \"Glis3\", \"Egr3\"],\n",
    "    \"016 CA1-ProS Glut\": [\"Fibcd1\",\"Spink8\"],\n",
    "    \"017 CA3 Glut\":      [\"Tspan18\",\"Slc17a7\",\"Hes1\"],\n",
    "    \"028 L6b/CT ENT Glut\":[\"Cplx3\",\"Nxph3\",\"Npr3\"],\n",
    "    \"019 L2/3 IT PPP Glut\":[\"Cdc14a\",\"Satb2\",\"Meis2\"],\n",
    "    \"113 MEA-COA-BMA Ccdc42 Glut\":[\"Kcnh3\",\"Scn5a\",\"Adcyap1\",\"Csmd3\",\"Trhr\",\"B130024G19Rik\"],\n",
    "    \"053 Sst Gaba\":      [\"Rbp4\",\"Lhx6\",\"Reln\"],\n",
    "    \"070 LSX Prdm12 Slit2 Gaba\":[\"Prdm12\",\"Hs3st2\",\"Shisa9\",\"Runx1t1\"],\n",
    "    \"052 Pvalb Gaba\":    [\"Rbp4\",\"Lhx6\",\"Zfp804b\"],\n",
    "    \"071 LSX Prdm12 Zeb2 Gaba\":[\"Ano1\",\"Myo5b\",\"Zeb2\",\"Slc18a2\"],\n",
    "}\n",
    "\n",
    "subclass_tf_markers = {\n",
    "    \"037 DG Glut\":       [\"Prox1\",\"Glis3\",\"Egr3\"],\n",
    "    \"016 CA1-ProS Glut\": [\"Zfhx4\",\"Neurod6\",\"Fezf2\",\"Bcl6\",\"Satb2\"],\n",
    "    \"017 CA3 Glut\":      [\"Lhx9\",\"Neurod6\",\"Foxg1\",\"Hopx\",\"Hes1\"],\n",
    "    \"028 L6b/CT ENT Glut\":[\"Foxp2\",\"Satb2\",\"Nr2f2\",\"Zeb2\"],\n",
    "    \"019 L2/3 IT PPP Glut\":[\"Cux2\",\"Satb2\",\"Lhx2\",\"Tshz2\",\"Tox\",\"Sox8\",\"Tead1\"],\n",
    "    \"113 MEA-COA-BMA Ccdc42 Glut\":[\"Egr3\",\"Zbtb7c\",\"Nr2f2\",\"Zim1\",\"Id2\",\"Myt1l\",\"Meis2\",\"Foxg1\"],\n",
    "    \"053 Sst Gaba\":      [\"Mafb\",\"Npas1\",\"Sox6\",\"Zeb2\"],\n",
    "    \"070 LSX Prdm12 Slit2 Gaba\":[\"Prdm12\",\"Myt1l\",\"Prdm16\",\"Isl1\",\"Egr3\"],\n",
    "    \"052 Pvalb Gaba\":    [\"Creb5\",\"Lhx6\",\"Klf5\"],\n",
    "    \"071 LSX Prdm12 Zeb2 Gaba\":[\"Prdm12\",\"Myt1l\",\"Zeb2\",\"Isl1\"],\n",
    "}\n",
    "\n",
    "subclass_id_markers = list(subclass_markers.values())\n",
    "subclass_id_markers"
   ]
  },
  {
   "cell_type": "code",
   "execution_count": null,
   "id": "fc55e51a-66b8-4bc5-bdca-2d9ad62e0dfe",
   "metadata": {},
   "outputs": [],
   "source": [
    "genes = [\n",
    "    'Prox1', 'Itpka', 'C1ql3', \"Glis3\", \"Egr3\",\n",
    "    'Fibcd1', 'Spink8', 'Zfhx4', 'Neurod6', 'Bcl6', # Fezf2, Satb2\n",
    "    'Tspan18', 'Slc17a7', 'Hes1', 'Lhx9', 'Neurod6', # Foxg1,Hopx,Hes1\n",
    "    #'Cplx3', 'Nxph3', 'Npr3', 'Foxp2', 'Fezf2',\n",
    "    #'Cdc14a', 'Satb2', 'Meis2', 'Cux2', 'Satb2',\n",
    "    #'Kcnh3', 'Scn5a', 'Adcyap1', 'Csmd3', 'Trhr', 'B130024G19Rik',\n",
    "    'Rbp4', 'Lhx6', 'Reln',\n",
    "    #'Prdm12', 'Hs3st2', 'Shisa9', 'Runx1t1',\n",
    "    'Rbp4', 'Lhx6', 'Zfp804b',\n",
    "    #'Ano1', 'Myo5b', 'Zeb2', 'Slc18a2'\n",
    "] "
   ]
  },
  {
   "cell_type": "code",
   "execution_count": null,
   "id": "0a639945-b7fe-46cb-bf78-8cd20599ec09",
   "metadata": {},
   "outputs": [],
   "source": [
    "#sc.tl.dendrogram(adata_subset, use_rep = \"X_scVI\", groupby = 'cell_type')\n",
    "sc.pl.matrixplot(adata_subset, var_names=['Slc17a7', 'Slc17a6', 'Gad1', 'Gad2'], groupby=\"cell_type\", dendrogram = True)"
   ]
  },
  {
   "cell_type": "code",
   "execution_count": null,
   "id": "0b952290-9bbb-406e-929f-eb1aa79248df",
   "metadata": {},
   "outputs": [],
   "source": [
    "marker_genes_dict = {\n",
    "    \"Excitatory neuron\": [\"Slc17a6\", \"Slc17a7\"],\n",
    "    \"Inhibitory neuron\": [\"Gad1\", \"Gad2\"],\n",
    "}"
   ]
  },
  {
   "cell_type": "code",
   "execution_count": null,
   "id": "84ebadf7-dc85-48f2-b854-04afd4cdb073",
   "metadata": {},
   "outputs": [],
   "source": [
    "ax = sc.pl.heatmap(\n",
    "    adata,\n",
    "    marker_genes_dict,\n",
    "    groupby=\"cluster\",\n",
    "    cmap=\"turbo\",\n",
    "    dendrogram=False,\n",
    "    swap_axes = True,\n",
    "    vmax=1.5\n",
    ")"
   ]
  },
  {
   "cell_type": "code",
   "execution_count": null,
   "id": "311fc3a7-3da3-4fe0-a417-f8e328060f79",
   "metadata": {},
   "outputs": [],
   "source": [
    "genes = [\n",
    "    'Prox1', 'Itpka', 'C1ql3', \"Glis3\", \"Egr3\",\n",
    "    'Fibcd1', 'Spink8', 'Zfhx4', 'Neurod6', 'Bcl6', # Fezf2, Satb2\n",
    "    'Tspan18', 'Slc17a7', 'Hes1', 'Lhx9', 'Neurod6', # Foxg1,Hopx,Hes1\n",
    "    #'Cplx3', 'Nxph3', 'Npr3', 'Foxp2', 'Fezf2',\n",
    "    #'Cdc14a', 'Satb2', 'Meis2', 'Cux2', 'Satb2',\n",
    "    #'Kcnh3', 'Scn5a', 'Adcyap1', 'Csmd3', 'Trhr', 'B130024G19Rik',\n",
    "    'Rbp4', 'Lhx6', 'Reln',\n",
    "    #'Prdm12', 'Hs3st2', 'Shisa9', 'Runx1t1',\n",
    "    'Rbp4', 'Lhx6', 'Zfp804b',\n",
    "    #'Ano1', 'Myo5b', 'Zeb2', 'Slc18a2'\n",
    "] "
   ]
  },
  {
   "cell_type": "code",
   "execution_count": null,
   "id": "7dd0d8c2-3a75-47c9-aeec-8479f3c2594c",
   "metadata": {},
   "outputs": [],
   "source": [
    "marker_genes_dict = {\n",
    "    \"Excitatory neuron\": [\"Slc17a6\", \"Slc17a7\"],\n",
    "    \"Inhibitory neuron\": [\"Gad1\", \"Gad2\"],\n",
    "    \"037 DG Glut\": ['Prox1', 'Itpka', 'C1ql3', \"Glis3\", \"Egr3\",],\n",
    "    \"016 CA1-ProS Glut\": ['Neurod6', 'Fibcd1', 'Spink8', 'Satb2', 'Bcl6'], #Zfhx4\n",
    "    \"017 CA3 Glut\": ['Tspan18', 'Hes1', 'Lhx9', 'Hopx'], #'Slc17a7', \n",
    "    \"053 Sst Gaba\": ['Lhx6', 'Reln', 'Mafb', 'Rbp4', 'Npas1'], # Rbp4,Lhx6,Reln\tMafb,Npas1,Sox6,Zeb2\n",
    "    \"052 Pvalb Gaba\": ['Zfp804b', 'Sox6', 'Zeb2'],\n",
    "    \"050 Lamp5 Lhx6 Gaba\": [],\n",
    "    \"046 Vip Gaba\": [],\n",
    "\n",
    "}"
   ]
  },
  {
   "cell_type": "code",
   "execution_count": null,
   "id": "d7a83977-2adb-4b4d-90c2-0d03db6e0384",
   "metadata": {},
   "outputs": [],
   "source": [
    "sc.pl.heatmap(adata_subset, var_names=marker_genes_dict, \n",
    "              groupby=\"cell_type\", standard_scale=\"var\",\n",
    "             vmax = 0.5, cmap = 'turbo')"
   ]
  },
  {
   "cell_type": "code",
   "execution_count": null,
   "id": "c40efaf8-b95d-4071-be99-9fad3a32790b",
   "metadata": {},
   "outputs": [],
   "source": [
    "sc.tl.rank_genes_groups(\n",
    "    adata_subset,\n",
    "    groupby='cell_type',\n",
    "    method='wilcoxon',\n",
    "    key_added='rank_genes_celltype'  # so we don't overwrite default\n",
    ")\n",
    "\n",
    "adata_subset.uns['rank_genes_celltype']"
   ]
  },
  {
   "cell_type": "code",
   "execution_count": null,
   "id": "f5d29b0f-6ce0-4331-820c-2ed446cc2508",
   "metadata": {},
   "outputs": [],
   "source": [
    "marker_genes_dict = {}\n",
    "\n",
    "result = adata_subset.uns['rank_genes_celltype']\n",
    "groups = result['names'].dtype.names\n",
    "\n",
    "for group in groups:\n",
    "    top_genes = result['names'][group][:10].tolist()\n",
    "    marker_genes_dict[group] = top_genes"
   ]
  },
  {
   "cell_type": "code",
   "execution_count": null,
   "id": "7aa9e286-2f8f-4aaa-a8eb-42554f5b18ab",
   "metadata": {},
   "outputs": [],
   "source": [
    "all_marker_genes = sum(marker_genes_dict.values(), [])\n",
    "\n",
    "top_n = 50\n",
    "top_marker_genes = all_marker_genes[:top_n]\n",
    "\n",
    "sc.pl.heatmap(adata_subset, var_names=top_marker_genes, \n",
    "              groupby=\"cell_type\", standard_scale=\"var\",\n",
    "              vmax=1, cmap='turbo',\n",
    "             save = 'subtype_marker_genes.pdf')"
   ]
  },
  {
   "cell_type": "code",
   "execution_count": null,
   "id": "68d5a27b-8e96-4925-ad15-bb46e8880ff0",
   "metadata": {},
   "outputs": [],
   "source": [
    "sc.pl.heatmap(adata_subset, var_names=['Slc17a6', 'Slc17a7', 'Gad1', 'Gad2'],\n",
    "              groupby=\"cell_type\", standard_scale=\"var\",\n",
    "              vmax=1, cmap='turbo',\n",
    "             save = 'excitatory_inhibitory_markers_by_subtype.pdf')"
   ]
  },
  {
   "cell_type": "code",
   "execution_count": null,
   "id": "f80366fd-3af4-4dbf-ae9e-71584d093ddf",
   "metadata": {},
   "outputs": [],
   "source": [
    "adata.X[:5, :5]"
   ]
  },
  {
   "cell_type": "markdown",
   "id": "13a36cd1-6a34-4021-bd7e-57b7740502a8",
   "metadata": {},
   "source": [
    "# Hippocampal donut plot"
   ]
  },
  {
   "cell_type": "code",
   "execution_count": null,
   "id": "cf7f398c-db20-4afc-8490-1e87fb204676",
   "metadata": {},
   "outputs": [],
   "source": [
    "cell_type_counts = adata_subset.obs['cell_type'].value_counts()\n",
    "cell_types = cell_type_counts.index.tolist()\n",
    "\n",
    "palette = sns.color_palette(\"Paired\", n_colors=len(cell_types))\n",
    "cell_type_colors = [matplotlib.colors.to_hex(c) for c in palette]\n",
    "\n",
    "# Function to show % only if > 5%\n",
    "def autopct_format(pct):\n",
    "    return ('%1.0f%%' % pct) if pct > 3 else ''\n",
    "\n",
    "fig, ax = plt.subplots(figsize=(6, 6))\n",
    "\n",
    "# Outer ring\n",
    "ax.pie(\n",
    "    cell_type_counts,\n",
    "    radius=1.0,\n",
    "    colors=cell_type_colors,\n",
    "    startangle=160,\n",
    "    wedgeprops=dict(width=0.3, edgecolor='white'),\n",
    "    labels = cell_types[:7] + [''] * (len(cell_types) - 7),\n",
    "    labeldistance=1.05,\n",
    "    autopct=autopct_format,    # use custom function\n",
    "    pctdistance=0.85,\n",
    "    textprops={'fontsize': 11}\n",
    ")\n",
    "\n",
    "# White center circle\n",
    "centre = plt.Circle((0, 0), 0.4, fc='white')\n",
    "ax.add_artist(centre)\n",
    "\n",
    "ax.set_title('Cell Type Composition', fontsize=16)\n",
    "plt.tight_layout()\n",
    "export_path = fig_dir / \"hippocampal_only_subtype_donut.pdf\"\n",
    "fig.savefig(export_path, bbox_inches='tight')\n",
    "plt.show()"
   ]
  },
  {
   "cell_type": "code",
   "execution_count": null,
   "id": "919b038d-9da1-44de-bf32-bbf97444b24a",
   "metadata": {},
   "outputs": [],
   "source": [
    "handles = [mpatches.Patch(color=col, label=cat) for col, cat in zip(cell_type_colors, cell_types)]\n",
    "\n",
    "# Plot the legend only\n",
    "fig, ax = plt.subplots(figsize=(6, len(cell_types) * 0.3)) \n",
    "ax.legend(handles=handles, loc='center', frameon=False, ncol=1)\n",
    "ax.axis('off')\n",
    "plt.tight_layout()\n",
    "export_path = fig_dir / \"hippocampal_only_subtype_donut_legend.pdf\"\n",
    "fig.savefig(export_path, bbox_inches='tight')\n",
    "plt.show()"
   ]
  },
  {
   "cell_type": "code",
   "execution_count": null,
   "id": "cebc3efe-c3bd-471d-865a-9355f360044e",
   "metadata": {},
   "outputs": [],
   "source": [
    "sc.pl.umap(adata, color = 'Slc17a6', frameon = False)"
   ]
  },
  {
   "cell_type": "code",
   "execution_count": null,
   "id": "e1a1905d-e669-44b0-b2ff-b3b6c8a706a9",
   "metadata": {},
   "outputs": [],
   "source": [
    "sc.pl.umap(adata, color = 'Slc17a7', frameon = False)"
   ]
  },
  {
   "cell_type": "code",
   "execution_count": null,
   "id": "e1c95a58-9204-420b-b98e-11aa4010d725",
   "metadata": {},
   "outputs": [],
   "source": [
    "sc.pl.umap(adata, color = 'Gad1', frameon = False)"
   ]
  },
  {
   "cell_type": "code",
   "execution_count": null,
   "id": "1d91d8b4-3e9b-41d5-ab4a-263a8b21f5e2",
   "metadata": {},
   "outputs": [],
   "source": [
    "sc.pl.umap(adata, color = 'Gad2', frameon = False)"
   ]
  },
  {
   "cell_type": "code",
   "execution_count": null,
   "id": "8dff5a4b-f169-4b93-8d08-98c254d7148b",
   "metadata": {},
   "outputs": [],
   "source": [
    "sc.pl.umap(adata, color = 'cell_class', frameon = False)"
   ]
  },
  {
   "cell_type": "markdown",
   "id": "3f28159d-4be1-40ce-99b3-d35dd24c6e00",
   "metadata": {},
   "source": [
    "# Hippocampus only gene markers by group"
   ]
  },
  {
   "cell_type": "code",
   "execution_count": null,
   "id": "bafe7ed2-451d-4f55-b258-f99b5d717301",
   "metadata": {},
   "outputs": [],
   "source": [
    "genes = ['Prox1', 'Synpr', 'C1ql2', 'C1ql3', 'Camk2a', 'Camk2b', 'Tmem108', 'Ppfia2', 'Rfx3', 'Lrrtm4', 'Btbd9', 'Cntnap5a', 'Erc2']"
   ]
  },
  {
   "cell_type": "code",
   "execution_count": null,
   "id": "864e980b-6521-45b2-85cf-629d2d0a6ea6",
   "metadata": {},
   "outputs": [],
   "source": [
    "sc.pl.matrixplot(adata_hippocampus_only, var_names = genes, groupby = 'group', standard_scale = 'var', \n",
    "                 colorbar_title = 'Scaled to gene',\n",
    "                cmap = 'rocket')"
   ]
  },
  {
   "cell_type": "code",
   "execution_count": null,
   "id": "f9a93618-5b9b-420c-b059-c2e2d97370ed",
   "metadata": {},
   "outputs": [],
   "source": [
    "sc.pl.matrixplot(adata_hippocampus_only, var_names = genes, groupby = 'cell_type', standard_scale = 'var', \n",
    "                 colorbar_title = 'Scaled to gene',\n",
    "                cmap = 'viridis',\n",
    "                swap_axes = True)"
   ]
  },
  {
   "cell_type": "markdown",
   "id": "d173f4d1-8d3d-4699-8b2c-373fe85909e5",
   "metadata": {},
   "source": [
    "# DE"
   ]
  },
  {
   "cell_type": "code",
   "execution_count": null,
   "id": "873ee9cf-d882-417c-80b2-a9848fc51899",
   "metadata": {},
   "outputs": [],
   "source": [
    "# WILCOXON DE FUNCTION — TEST ON ALL GENES\n",
    "\n",
    "def run_wilcoxon_de_analysis(adata, cell_type, reference_group, comparison_group, min_cells_per_group=40, max_imbalance_ratio=0.9):\n",
    "    # Filter data for the specific cell type and groups\n",
    "    subset_data = adata[(adata.obs['cell_type'] == cell_type) & \n",
    "                        (adata.obs['group'].isin([reference_group, comparison_group]))].copy()\n",
    "\n",
    "    if subset_data.shape[0] == 0:\n",
    "        return f\"Skipped: {reference_group} vs {comparison_group} (no cells of this type)\"\n",
    "\n",
    "    group_counts = subset_data.obs['group'].value_counts()\n",
    "    group_counts = group_counts.reindex([reference_group, comparison_group]).fillna(0)\n",
    "\n",
    "    if any(group_counts == 0):\n",
    "        return f\"Skipped: {reference_group} vs {comparison_group} (no cells in groups)\"\n",
    "\n",
    "    # Check for minimum n\n",
    "    if any(group_counts < min_cells_per_group):\n",
    "        return f\"Skipped: {reference_group} vs {comparison_group} (n is too low)\"\n",
    "\n",
    "    # Check for imbalance\n",
    "    if max(group_counts) / sum(group_counts) > max_imbalance_ratio:\n",
    "        return f\"Skipped: {reference_group} vs {comparison_group} (imbalance)\"\n",
    "\n",
    "    n_genes = subset_data.shape[1]\n",
    "\n",
    "    sc.tl.rank_genes_groups(\n",
    "        subset_data,\n",
    "        groupby='group',\n",
    "        groups=[comparison_group],\n",
    "        reference=reference_group,\n",
    "        method='wilcoxon',\n",
    "        n_genes=n_genes\n",
    "    )\n",
    "\n",
    "    result = subset_data.uns['rank_genes_groups']\n",
    "    \n",
    "    gene_names = pd.DataFrame(result['names'])[comparison_group]\n",
    "    pvals_adj = pd.DataFrame(result['pvals_adj'])[comparison_group]\n",
    "    logfc = pd.DataFrame(result['logfoldchanges'])[comparison_group]\n",
    "\n",
    "    df_result = pd.DataFrame({\n",
    "        'gene': gene_names.values,\n",
    "        'pvals_adj': pvals_adj.values,\n",
    "        'log2fc': logfc.values,\n",
    "        'cell_type': cell_type,\n",
    "        'comparison': f\"{reference_group}_vs_{comparison_group}\"\n",
    "    })\n",
    "\n",
    "    return df_result"
   ]
  },
  {
   "cell_type": "code",
   "execution_count": null,
   "id": "334f6dbd-6f58-4e10-8063-ddfba5347fc9",
   "metadata": {},
   "outputs": [],
   "source": [
    "adata.obs.side.value_counts()"
   ]
  },
  {
   "cell_type": "code",
   "execution_count": null,
   "id": "b0cf12a1-4973-4378-a49e-1230326d713a",
   "metadata": {},
   "outputs": [],
   "source": [
    "adata.obs.group.value_counts()"
   ]
  },
  {
   "cell_type": "code",
   "execution_count": null,
   "id": "34929c19-2254-4b3a-ad49-b845b5e1ea16",
   "metadata": {},
   "outputs": [],
   "source": [
    "adata = adata[adata.obs['side'] == 'Ipsilateral'].copy()\n",
    "adata.obs.group.value_counts()"
   ]
  },
  {
   "cell_type": "code",
   "execution_count": null,
   "id": "f7099730-e05d-4d6c-abfb-c68190e731df",
   "metadata": {},
   "outputs": [],
   "source": [
    "# RUN DE WITH WILCOXON\n",
    "\n",
    "cell_types = [\n",
    "    '037 DG Glut', '016 CA1-ProS Glut', '017 CA3 Glut', \n",
    "    '025 CA2-FC-IG Glut', '023 SUB-ProS Glut', '033 NP SUB Glut', \n",
    "    '053 Sst Gaba', '052 Pvalb Gaba', '050 Lamp5 Lhx6 Gaba', '046 Vip Gaba'\n",
    "]\n",
    "\n",
    "comparisons = [('Sham-GFP', 'TBI-GFP'), ('TBI-GFP', 'TBI-VEGFC'), ('Sham-GFP', 'Sham-VEGFC')]\n",
    "\n",
    "all_wilcoxon_results = []\n",
    "\n",
    "for cell_type in cell_types:\n",
    "    for reference_group, comparison_group in comparisons:\n",
    "        try:\n",
    "            result = run_wilcoxon_de_analysis(\n",
    "                adata=adata,\n",
    "                cell_type=cell_type,\n",
    "                reference_group=reference_group,\n",
    "                comparison_group=comparison_group\n",
    "            )\n",
    "            \n",
    "            # Safely handle result\n",
    "            if isinstance(result, pd.DataFrame):\n",
    "                all_wilcoxon_results.append(result)\n",
    "            else:\n",
    "                print(f\"Skipping {cell_type} {reference_group} vs {comparison_group}: {result}\")\n",
    "        \n",
    "        except ValueError as e:\n",
    "            print(f\"Error in {cell_type} {reference_group} vs {comparison_group}: {e}\")\n",
    "            print(\"Skipping this comparison.\")\n",
    "\n",
    "if len(all_wilcoxon_results) > 0:\n",
    "    final_wilcoxon_results = pd.concat(all_wilcoxon_results, ignore_index=True)\n",
    "    print(\"Final DE results shape:\", final_wilcoxon_results.shape)\n",
    "else:\n",
    "    print(\"No DE results were generated.\")"
   ]
  },
  {
   "cell_type": "code",
   "execution_count": null,
   "id": "e63a3b5a-e90d-456d-9f3b-54358ce0e44d",
   "metadata": {},
   "outputs": [],
   "source": [
    "adata.obs.group.value_counts()"
   ]
  },
  {
   "cell_type": "code",
   "execution_count": null,
   "id": "2abe715a-58f4-435c-b908-a3126a27d011",
   "metadata": {},
   "outputs": [],
   "source": [
    "# Group by side + group + group_id, and count\n",
    "grouping = adata.obs.groupby(['side', 'group', 'group_id']).size().reset_index(name='n_cells')\n",
    "\n",
    "# Show result\n",
    "display(grouping)"
   ]
  },
  {
   "cell_type": "code",
   "execution_count": null,
   "id": "7c227ea7-8994-4ab7-af1d-13726ae3d20b",
   "metadata": {},
   "outputs": [],
   "source": [
    "#final_wilcoxon_results.to_csv(os.path.join(outs, '2025-06-07_neuron-wilcoxon-DE.csv'))"
   ]
  },
  {
   "cell_type": "code",
   "execution_count": null,
   "id": "e86c4dde-5953-4fe5-9ef1-4d47c412157b",
   "metadata": {},
   "outputs": [],
   "source": [
    "padj_threshold = 0.05\n",
    "log2fc_threshold = 0.25\n",
    "\n",
    "filtered_wilcoxon_results = final_wilcoxon_results[\n",
    "    (final_wilcoxon_results['pvals_adj'] < padj_threshold) &\n",
    "    (abs(final_wilcoxon_results['log2fc']) >= log2fc_threshold)\n",
    "]\n",
    "\n",
    "print(filtered_wilcoxon_results['comparison'].value_counts())  # How many DEGs per comparison"
   ]
  },
  {
   "cell_type": "code",
   "execution_count": null,
   "id": "89a30be9-429d-4873-9f7c-982c248ffa68",
   "metadata": {},
   "outputs": [],
   "source": [
    "final_wilcoxon_results.comparison.value_counts()"
   ]
  },
  {
   "cell_type": "code",
   "execution_count": null,
   "id": "5e60bf47-7533-4011-9358-dc4c04f2cd9e",
   "metadata": {},
   "outputs": [],
   "source": [
    "from functools import reduce\n",
    "\n",
    "comparisons = ['Sham-GFP_vs_TBI-GFP', 'TBI-GFP_vs_TBI-VEGFC', 'Sham-GFP_vs_Sham-VEGFC']\n",
    "\n",
    "# Specify order of cell types for heatmap — adjust based on your adata.obs['cell_type'] categories!\n",
    "order = adata.obs['cell_type'].cat.categories.tolist()\n",
    "\n",
    "# Create a reference DataFrame for cell types\n",
    "cell_type_reference = pd.DataFrame(order, columns=['cell_type'])\n",
    "\n",
    "# Initialize an empty list to store DEG counts per comparison\n",
    "data_list = []\n",
    "\n",
    "# Define thresholds\n",
    "padj_threshold = 0.05\n",
    "log2fc_threshold = 0.25\n",
    "\n",
    "# Loop over each comparison\n",
    "for comp in comparisons:\n",
    "    # Filter for this comparison\n",
    "    df_comp = final_wilcoxon_results[final_wilcoxon_results['comparison'] == comp]\n",
    "\n",
    "    # Optional: filter on 'mean' if available\n",
    "    if 'mean' in df_comp.columns:\n",
    "        df_comp = df_comp[df_comp['mean'] > mean_expression_threshold]\n",
    "\n",
    "    # Filter for significant DEGs\n",
    "    df_significant = df_comp[\n",
    "        (df_comp['pvals_adj'] < padj_threshold) &\n",
    "        (abs(df_comp['log2fc']) > log2fc_threshold)\n",
    "    ]\n",
    "\n",
    "    # Count DEGs per cell type\n",
    "    deg_counts = df_significant.groupby('cell_type').size().reset_index(name=f'{comp}')\n",
    "\n",
    "    # Merge with reference to ensure all cell types appear\n",
    "    deg_counts = pd.merge(cell_type_reference, deg_counts, on='cell_type', how='left').fillna(0)\n",
    "\n",
    "    # Append to list\n",
    "    data_list.append(deg_counts)\n",
    "\n",
    "# Merge all comparison dataframes on 'cell_type'\n",
    "combined_df = reduce(lambda left, right: pd.merge(left, right, on='cell_type', how='outer'), data_list)\n",
    "combined_df.fillna(0, inplace=True)  # Replace NaN with 0 where no DEGs\n",
    "\n",
    "# Reorder dataframe according to desired order\n",
    "combined_df['cell_type'] = pd.Categorical(combined_df['cell_type'], categories=order, ordered=True)\n",
    "combined_df = combined_df.sort_values('cell_type')\n",
    "\n",
    "# Plot heatmap\n",
    "# Plot heatmap — top 10 rows only\n",
    "plt.figure(figsize=(6, 5))\n",
    "sns.heatmap(combined_df.set_index('cell_type').head(10), annot=True, cmap='viridis', fmt=\"g\")\n",
    "\n",
    "plt.title('')\n",
    "plt.ylabel('')\n",
    "plt.xlabel('')\n",
    "plt.grid(False)\n",
    "plt.tight_layout()\n",
    "plt.show()"
   ]
  },
  {
   "cell_type": "code",
   "execution_count": null,
   "id": "2621c1f7-4cd4-416a-88f2-40122ddbe472",
   "metadata": {},
   "outputs": [],
   "source": [
    "import pandas as pd\n",
    "\n",
    "# Filter & prepare (exactly as in your plotting code)\n",
    "padj_thresh = 0.05\n",
    "lfc_thresh  = 0.25\n",
    "cluster     = \"016 CA1-ProS Glut\"\n",
    "comps = [\n",
    "    'Sham-GFP_vs_TBI-GFP',\n",
    "    'TBI-GFP_vs_TBI-VEGFC',\n",
    "    'Sham-GFP_vs_Sham-VEGFC'\n",
    "]\n",
    "\n",
    "df = (\n",
    "    final_wilcoxon_results\n",
    "    .query(\"cell_type == @cluster and comparison in @comps\")\n",
    "    .copy()\n",
    ")\n",
    "df['neglog10_p'] = -np.log10(df['pvals_adj'] + 1e-300)\n",
    "\n",
    "# Mark significance\n",
    "df['sig'] = np.where(\n",
    "    (df['pvals_adj'] < padj_thresh) & (df['log2fc'].abs() > lfc_thresh),\n",
    "    np.where(df['log2fc'] > 0, 'up', 'down'),\n",
    "    'ns'\n",
    ")\n",
    "\n",
    "# Select columns and sort\n",
    "table_cols = ['comparison', 'gene', 'log2fc', 'pvals_adj', 'sig']\n",
    "table = (\n",
    "    df\n",
    "    .sort_values(['comparison', 'sig', 'neglog10_p'], ascending=[True, False, False])\n",
    "    [table_cols]\n",
    ")\n",
    "\n",
    "# Show the top 10 rows per comparison\n",
    "top_table = (\n",
    "    table\n",
    "    .groupby('comparison')\n",
    "    .head(20)\n",
    "    .reset_index(drop=True)\n",
    ")\n",
    "\n",
    "# Display\n",
    "from IPython.display import display\n",
    "display(top_table)"
   ]
  },
  {
   "cell_type": "code",
   "execution_count": null,
   "id": "bdf00731-4b76-49dd-b28c-2a930885b703",
   "metadata": {},
   "outputs": [],
   "source": [
    "genes = ['Arpp21', 'R3hdm1', 'Rorb', 'Cux1', 'Cux2', 'Brinp3', 'Mef2c', 'Zbtb20']\n",
    "\n",
    "sc.pl.matrixplot(adata_subset, \n",
    "                 var_names = genes, \n",
    "                 groupby = 'group', \n",
    "                 standard_scale = 'var')"
   ]
  },
  {
   "cell_type": "code",
   "execution_count": null,
   "id": "00983a46-46c1-4d25-819c-8ba04678c76f",
   "metadata": {},
   "outputs": [],
   "source": [
    "sc.pl.dotplot(adata_subset, \n",
    "                 var_names = genes, \n",
    "                 groupby = 'group', \n",
    "                 standard_scale = 'var')"
   ]
  },
  {
   "cell_type": "code",
   "execution_count": null,
   "id": "3fcf334c-984e-44c9-a846-8882e6f0fa2d",
   "metadata": {},
   "outputs": [],
   "source": [
    "final_wilcoxon_results"
   ]
  },
  {
   "cell_type": "code",
   "execution_count": null,
   "id": "9092b171-1d4a-41b1-be97-55f942360306",
   "metadata": {},
   "outputs": [],
   "source": [
    "#df_check[(df_check['log2fc'] >= log2fc_threshold)]"
   ]
  },
  {
   "cell_type": "code",
   "execution_count": null,
   "id": "c098290f-9e13-4f10-89aa-1de0812eb7ad",
   "metadata": {},
   "outputs": [],
   "source": [
    "# PARAMETERS\n",
    "log2fc_threshold = 0.25\n",
    "qval_threshold = 0.05\n",
    "\n",
    "# List of comparisons\n",
    "comparisons = final_wilcoxon_results['comparison'].unique()\n",
    "cell_types = final_wilcoxon_results['cell_type'].unique()\n",
    "\n",
    "# Initialize list to collect tallies\n",
    "tally_list = []\n",
    "\n",
    "# Loop over comparisons and cell types\n",
    "for comp in comparisons:\n",
    "    for cell_type in cell_types:\n",
    "        df_sub = final_wilcoxon_results[\n",
    "            (final_wilcoxon_results['comparison'] == comp) &\n",
    "            (final_wilcoxon_results['cell_type'] == cell_type) &\n",
    "            (final_wilcoxon_results['pvals_adj'] < qval_threshold)\n",
    "        ]\n",
    "        \n",
    "        # Tally up/down based on log2fc\n",
    "        n_up = (df_sub['log2fc'] > log2fc_threshold).sum()\n",
    "        n_down = (df_sub['log2fc'] < -log2fc_threshold).sum()\n",
    "        \n",
    "        # Save result\n",
    "        tally_list.append({\n",
    "            'comparison': comp,\n",
    "            'cell_type': cell_type,\n",
    "            'upregulated': n_up,\n",
    "            'downregulated': n_down\n",
    "        })\n",
    "\n",
    "# Convert to dataframe\n",
    "tally_df = pd.DataFrame(tally_list)\n",
    "\n",
    "# Display nicely\n",
    "display(tally_df)"
   ]
  },
  {
   "cell_type": "code",
   "execution_count": null,
   "id": "f32178ca-8f5d-4c50-999b-595106de4014",
   "metadata": {},
   "outputs": [],
   "source": [
    "# Get all unique comparisons and cell_types:\n",
    "all_comparisons = tally_df['comparison'].unique()\n",
    "all_cell_types = tally_df['cell_type'].unique()\n",
    "\n",
    "# Build complete index\n",
    "import itertools\n",
    "full_index = pd.MultiIndex.from_product(\n",
    "    [all_comparisons, all_cell_types],\n",
    "    names=['comparison', 'cell_type']\n",
    ")\n",
    "\n",
    "# Reindex the df\n",
    "tally_df_complete = tally_df.set_index(['comparison', 'cell_type']).reindex(full_index).reset_index()\n",
    "\n",
    "# Fill missing values with 0\n",
    "tally_df_complete['upregulated'] = tally_df_complete['upregulated'].fillna(0).astype(int)\n",
    "tally_df_complete['downregulated'] = tally_df_complete['downregulated'].fillna(0).astype(int)\n",
    "\n",
    "# plot heatmaps\n",
    "\n",
    "column_order = [\n",
    "    'Sham-GFP_vs_TBI-GFP',\n",
    "    'TBI-GFP_vs_TBI-VEGFC',\n",
    "    'Sham-GFP_vs_Sham-VEGFC'\n",
    "]\n",
    "\n",
    "# up\n",
    "heatmap_up = tally_df_complete.pivot(index='cell_type', columns='comparison', values='upregulated')\n",
    "heatmap_up = heatmap_up.reindex(columns=column_order)\n",
    "\n",
    "plt.figure(figsize=(5, 5))\n",
    "sns.heatmap(\n",
    "    heatmap_up,\n",
    "    annot=True,\n",
    "    cmap='rocket_r',\n",
    "    fmt='g'\n",
    ")\n",
    "plt.title('Upregulated genes')\n",
    "plt.ylabel('')\n",
    "plt.xlabel('')\n",
    "plt.tight_layout()\n",
    "plt.show()\n",
    "\n",
    "# down\n",
    "heatmap_down = tally_df_complete.pivot(index='cell_type', columns='comparison', values='downregulated')\n",
    "heatmap_down = heatmap_down.reindex(columns=column_order)\n",
    "\n",
    "plt.figure(figsize=(5, 5))\n",
    "sns.heatmap(\n",
    "    heatmap_down,\n",
    "    annot=True,\n",
    "    cmap='rocket_r',\n",
    "    fmt='g'\n",
    ")\n",
    "plt.title('Downregulated genes')\n",
    "plt.ylabel('')\n",
    "plt.xlabel('')\n",
    "plt.tight_layout()\n",
    "plt.show()\n",
    "\n",
    "# up + down\n",
    "tally_df_complete['total_DE_genes'] = tally_df_complete['upregulated'] + tally_df_complete['downregulated']\n",
    "\n",
    "heatmap_total = tally_df_complete.pivot(index='cell_type', columns='comparison', values='total_DE_genes')\n",
    "heatmap_total = heatmap_total.reindex(columns=column_order)\n",
    "\n",
    "plt.figure(figsize=(5, 5))\n",
    "sns.heatmap(\n",
    "    heatmap_total,\n",
    "    annot=True,\n",
    "    cmap='rocket_r',\n",
    "    fmt='g'\n",
    ")\n",
    "plt.title('Total DE genes (Up + Down)')\n",
    "plt.ylabel('')\n",
    "plt.xlabel('')\n",
    "plt.tight_layout()\n",
    "plt.show()"
   ]
  },
  {
   "cell_type": "code",
   "execution_count": null,
   "id": "5d3f0a3b-9742-42e3-ac64-afe48e5679f3",
   "metadata": {},
   "outputs": [],
   "source": [
    "# up\n",
    "heatmap_up = tally_df_complete.pivot(index='cell_type', columns='comparison', values='upregulated')\n",
    "heatmap_up = heatmap_up.reindex(columns=column_order)\n",
    "\n",
    "plt.figure(figsize=(5, 5))\n",
    "sns.heatmap(\n",
    "    heatmap_up,\n",
    "    annot=True,\n",
    "    cmap='rocket_r',\n",
    "    fmt='g'\n",
    ")\n",
    "plt.title('Upregulated genes')\n",
    "plt.ylabel('')\n",
    "plt.xlabel('')\n",
    "plt.tight_layout()\n",
    "plt.savefig(os.path.join(fig_dir, \"heatmap_upregulated.pdf\"))\n",
    "plt.show()\n",
    "\n",
    "# Down\n",
    "heatmap_down = tally_df_complete.pivot(index='cell_type', columns='comparison', values='downregulated')\n",
    "heatmap_down = heatmap_down.reindex(columns=column_order)\n",
    "\n",
    "plt.figure(figsize=(5, 5))\n",
    "sns.heatmap(\n",
    "    heatmap_down,\n",
    "    annot=True,\n",
    "    cmap='rocket_r',\n",
    "    fmt='g'\n",
    ")\n",
    "plt.title('Downregulated genes')\n",
    "plt.ylabel('')\n",
    "plt.xlabel('')\n",
    "plt.tight_layout()\n",
    "plt.savefig(os.path.join(fig_dir, \"heatmap_downregulated.pdf\"))\n",
    "plt.show()\n",
    "\n",
    "# Up + down\n",
    "tally_df_complete['total_DE_genes'] = tally_df_complete['upregulated'] + tally_df_complete['downregulated']\n",
    "\n",
    "heatmap_total = tally_df_complete.pivot(index='cell_type', columns='comparison', values='total_DE_genes')\n",
    "heatmap_total = heatmap_total.reindex(columns=column_order)\n",
    "\n",
    "plt.figure(figsize=(5, 5))\n",
    "sns.heatmap(\n",
    "    heatmap_total,\n",
    "    annot=True,\n",
    "    cmap='rocket_r',\n",
    "    fmt='g'\n",
    ")\n",
    "plt.title('Total DE genes (Up + Down)')\n",
    "plt.ylabel('')\n",
    "plt.xlabel('')\n",
    "plt.tight_layout()\n",
    "plt.savefig(os.path.join(fig_dir, \"heatmap_total_DEGs.pdf\"))\n",
    "plt.show()"
   ]
  },
  {
   "cell_type": "code",
   "execution_count": null,
   "id": "d5aa75a0-7b3d-43ff-adee-081ed263689c",
   "metadata": {},
   "outputs": [],
   "source": [
    "barplot_total_df = tally_df_complete[['comparison', 'cell_type', 'total_DE_genes']].copy()\n",
    "\n",
    "# 2. Plot total DEGs\n",
    "plt.figure(figsize=(3, 2))\n",
    "\n",
    "sns.barplot(\n",
    "    data=barplot_total_df,\n",
    "    y='cell_type',\n",
    "    x='total_DE_genes',\n",
    "    hue='comparison',\n",
    "    dodge=True,\n",
    "    ci=None,\n",
    "    palette='husl' \n",
    ")\n",
    "\n",
    "plt.xlabel('Total # of DE Genes (Up + Down)')\n",
    "plt.ylabel('')\n",
    "plt.title('# DEGs per Cell Type Comparison')\n",
    "\n",
    "plt.legend(title='Comparison', frameon=False, bbox_to_anchor=(1.05, 1), loc='upper left')\n",
    "sns.despine()\n",
    "plt.tight_layout()\n",
    "export_path = fig_dir / \"DEGs_barplot.pdf\"\n",
    "fig.savefig(export_path, bbox_inches='tight')\n",
    "plt.show()"
   ]
  }
 ],
 "metadata": {
  "kernelspec": {
   "display_name": "sc-spatial",
   "language": "python",
   "name": "sc-spatial"
  },
  "language_info": {
   "codemirror_mode": {
    "name": "ipython",
    "version": 3
   },
   "file_extension": ".py",
   "mimetype": "text/x-python",
   "name": "python",
   "nbconvert_exporter": "python",
   "pygments_lexer": "ipython3",
   "version": "3.12.2"
  }
 },
 "nbformat": 4,
 "nbformat_minor": 5
}
