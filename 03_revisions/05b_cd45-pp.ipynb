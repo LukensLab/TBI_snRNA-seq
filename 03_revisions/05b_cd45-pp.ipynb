{
 "cells": [
  {
   "cell_type": "code",
   "execution_count": null,
   "id": "155f0013-884c-432a-859f-28b1c5ef5bf2",
   "metadata": {},
   "outputs": [],
   "source": [
    "import os\n",
    "import sys\n",
    "import scanpy as sc\n",
    "import pandas as pd\n",
    "import matplotlib.pyplot as plt\n",
    "import numpy as np\n",
    "import session_info"
   ]
  },
  {
   "cell_type": "code",
   "execution_count": null,
   "id": "4ddb5866-15c9-4dbe-be6f-bb3b45bbb060",
   "metadata": {},
   "outputs": [],
   "source": [
    "input_dir = '/path/to/data/h5ad/'\n",
    "input_adata = os.path.join(input_dir, '01_adata_cd45.h5ad')\n",
    "output_dir = input_dir"
   ]
  },
  {
   "cell_type": "code",
   "execution_count": null,
   "id": "11ea2552-81f0-44b9-ae0c-69f19196ef9a",
   "metadata": {},
   "outputs": [],
   "source": [
    "adata = sc.read_h5ad(input_adata)"
   ]
  },
  {
   "cell_type": "code",
   "execution_count": null,
   "id": "e920c304-28e5-4cb9-951f-9a992e7324bc",
   "metadata": {},
   "outputs": [],
   "source": [
    "adata.layers['counts'] = adata.X.copy()"
   ]
  },
  {
   "cell_type": "code",
   "execution_count": null,
   "id": "f9efe27d-9d55-44d7-83b6-10c1413f9ede",
   "metadata": {},
   "outputs": [],
   "source": [
    "adata.obs.columns"
   ]
  },
  {
   "cell_type": "code",
   "execution_count": null,
   "id": "3972da16-e55d-4027-9ced-e3ac424f5e82",
   "metadata": {},
   "outputs": [],
   "source": [
    "adata.obs.solo_prediction.value_counts()"
   ]
  },
  {
   "cell_type": "code",
   "execution_count": null,
   "id": "34377885-9c25-4cdb-9902-41f18572c555",
   "metadata": {},
   "outputs": [],
   "source": [
    "adata.obs.side.value_counts()"
   ]
  },
  {
   "cell_type": "code",
   "execution_count": null,
   "id": "b4783617-3aad-4de5-a585-47bab45ea96f",
   "metadata": {},
   "outputs": [],
   "source": [
    "adata = adata[adata.obs['solo_prediction'] == 'singlet'].copy()\n",
    "adata = adata[adata.obs['side'] == 'Ipsilateral'].copy()\n",
    "adata.obs.side.value_counts()"
   ]
  },
  {
   "cell_type": "code",
   "execution_count": null,
   "id": "88e279a7-2d21-4dc1-9ba0-c9371718805f",
   "metadata": {},
   "outputs": [],
   "source": [
    "adata.obs.sample_id.value_counts()"
   ]
  },
  {
   "cell_type": "code",
   "execution_count": null,
   "id": "f10f8685-c762-4920-bf93-27f6d8ae26cc",
   "metadata": {},
   "outputs": [],
   "source": [
    "adata.var['mt'] = adata.var_names.str.startswith('mt-')  # for mouse\n",
    "adata.var['ribosomal'] = adata.var_names.str.match(r'^(Rpl|Rps)\\d+')"
   ]
  },
  {
   "cell_type": "code",
   "execution_count": null,
   "id": "84632e8d-71f0-4ef6-bc04-fcb429fb6d98",
   "metadata": {},
   "outputs": [],
   "source": [
    "sc.pp.calculate_qc_metrics(\n",
    "    adata,\n",
    "    qc_vars=['mt', 'ribosomal'],\n",
    "    percent_top=None,\n",
    "    log1p=False,\n",
    "    inplace=True\n",
    ")"
   ]
  },
  {
   "cell_type": "code",
   "execution_count": null,
   "id": "29bca3e2-d39a-4725-b05e-67c8bd46eec9",
   "metadata": {},
   "outputs": [],
   "source": [
    "adata = adata[\n",
    "    (adata.obs['total_counts'] > 750) &\n",
    "    (adata.obs['pct_counts_mt'] < 20)\n",
    "].copy()"
   ]
  },
  {
   "cell_type": "code",
   "execution_count": null,
   "id": "eaa09de5-1336-430a-bbe9-c33b9535a008",
   "metadata": {},
   "outputs": [],
   "source": [
    "sc.pp.filter_genes(adata, min_cells=5)\n",
    "sc.pp.normalize_total(adata)\n",
    "sc.pp.log1p(adata)\n",
    "sc.pp.scale(adata, max_value=10)\n",
    "sc.pp.pca(adata, n_comps=50, svd_solver='arpack')\n",
    "sc.pl.pca_variance_ratio(adata, log=True)\n",
    "sc.pp.neighbors(adata, n_neighbors=10, n_pcs=10)\n",
    "sc.tl.umap(adata)\n",
    "sc.tl.leiden(adata, resolution = 1)"
   ]
  },
  {
   "cell_type": "code",
   "execution_count": null,
   "id": "1f9cf2bf-dc4e-403f-885d-4be54993dd36",
   "metadata": {},
   "outputs": [],
   "source": [
    "adata.obs.group.value_counts()"
   ]
  },
  {
   "cell_type": "code",
   "execution_count": null,
   "id": "a2e07564-4e91-4ee9-a1a4-33f1c85c23c3",
   "metadata": {},
   "outputs": [],
   "source": [
    "sc.pl.umap(adata, color = ['leiden', 'Rbfox3', 'Ptprc', 'Gfap', 'Mrc1', 'Tmem119', 'Hexb', 'P2ry12', 'Apoe', 'H2-Ab1', 'Mbp', 'Itgax'])"
   ]
  },
  {
   "cell_type": "code",
   "execution_count": null,
   "id": "7e857ae4-5ffe-4dfd-bbf2-7aa7439a702e",
   "metadata": {},
   "outputs": [],
   "source": [
    "cell_type= { \n",
    "\"0\": \"Microglia\", \n",
    "\"1\": \"Microglia\",\n",
    "\"2\": \"Microglia\",\n",
    "\"3\": \"Microglia\",\n",
    "\"4\": \"Microglia\",\n",
    "\"5\": \"Neuron\",\n",
    "\"6\": \"Neuron\",\n",
    "\"7\": \"Neuron\",\n",
    "\"8\": \"Microglia\",\n",
    "\"9\": \"Microglia\",\n",
    "\"10\": \"Neuron\",\n",
    "\"11\": \"PVM\",\n",
    "\"12\": \"Oligo\",\n",
    "\"13\": \"Astrocyte\"\n",
    "}\n",
    "\n",
    "adata.obs['cell_type'] = adata.obs.leiden.map(cell_type)"
   ]
  },
  {
   "cell_type": "code",
   "execution_count": null,
   "id": "f2bfc27e-df25-4c2b-b764-fcf5b0596f50",
   "metadata": {},
   "outputs": [],
   "source": [
    "sc.pl.umap(adata, color = ['cell_type'])"
   ]
  },
  {
   "cell_type": "code",
   "execution_count": null,
   "id": "1bc762ea-c239-4e94-9b30-26a13243a3b0",
   "metadata": {},
   "outputs": [],
   "source": [
    "sc.tl.rank_genes_groups(adata, groupby = 'leiden', method = 'wilcoxon')\n",
    "sc.pl.rank_genes_groups(adata, fontsize = 16)"
   ]
  },
  {
   "cell_type": "code",
   "execution_count": null,
   "id": "335f7b8d-bf04-400a-bdee-950a8c7d64f9",
   "metadata": {},
   "outputs": [],
   "source": [
    "microglia = adata[adata.obs['cell_type'] == 'Microglia'].copy()"
   ]
  },
  {
   "cell_type": "code",
   "execution_count": null,
   "id": "13e43b57-7438-4f44-9bbb-0afb6a6ba23e",
   "metadata": {},
   "outputs": [],
   "source": [
    "microglia"
   ]
  },
  {
   "cell_type": "code",
   "execution_count": null,
   "id": "b57615c9-40cd-4995-87c3-5c26f8286af3",
   "metadata": {},
   "outputs": [],
   "source": [
    "microglia.obs.group.value_counts()"
   ]
  },
  {
   "cell_type": "code",
   "execution_count": null,
   "id": "14b2fc7e-69ea-4221-8cdc-61caf23ea1b0",
   "metadata": {},
   "outputs": [],
   "source": [
    "#adata.write(os.path.join(output_dir, '02_adata-cd45-annotated.h5ad'))\n",
    "\n",
    "microglia.write(os.path.join(output_dir, '02_mg-annotated.h5ad'))"
   ]
  }
 ],
 "metadata": {
  "kernelspec": {
   "display_name": "sc-spatial",
   "language": "python",
   "name": "sc-spatial"
  },
  "language_info": {
   "codemirror_mode": {
    "name": "ipython",
    "version": 3
   },
   "file_extension": ".py",
   "mimetype": "text/x-python",
   "name": "python",
   "nbconvert_exporter": "python",
   "pygments_lexer": "ipython3",
   "version": "3.12.2"
  }
 },
 "nbformat": 4,
 "nbformat_minor": 5
}
