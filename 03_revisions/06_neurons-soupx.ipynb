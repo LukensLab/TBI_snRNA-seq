{
 "cells": [
  {
   "cell_type": "markdown",
   "id": "fb5dbeb5-362f-4456-9f2f-643046e58b4c",
   "metadata": {},
   "source": [
    "Here, find the intersection of cells between current neuron subset and neuron subset on GEO for revisions. Update the neuronal count matrices with soupX-corrected counts. Filter out SOLO-detected doublets. This yields a neuron-specific dataset for downstream training, DE testing, and pathway enrichment."
   ]
  },
  {
   "cell_type": "code",
   "execution_count": null,
   "id": "dfa845e1-aad9-4746-95ec-772ceb5ade0b",
   "metadata": {},
   "outputs": [],
   "source": [
    "import os\n",
    "import sys\n",
    "import scanpy as sc\n",
    "import pandas as pd\n",
    "import matplotlib.pyplot as plt\n",
    "import seaborn as sns\n",
    "import numpy as np\n",
    "import pandas as pd"
   ]
  },
  {
   "cell_type": "code",
   "execution_count": null,
   "id": "48908c19-afe4-4957-9d71-cb025e213acd",
   "metadata": {},
   "outputs": [],
   "source": [
    "data_dir = '/path/to/data/geo'\n",
    "\n",
    "metadata_file = os.path.join(data_dir, 'GSE281850_cell_metadata.tsv')\n",
    "matrix_file = os.path.join(data_dir, 'GSE281850_expression_matrix.tsv')"
   ]
  },
  {
   "cell_type": "code",
   "execution_count": null,
   "id": "2f6a2f06-b0eb-459b-8c26-acfc2ab65930",
   "metadata": {},
   "outputs": [],
   "source": [
    "expression_df = pd.read_csv(matrix_file, sep='\\t', index_col=0)\n",
    "metadata_df = pd.read_csv(metadata_file, sep='\\t', index_col=0)"
   ]
  },
  {
   "cell_type": "code",
   "execution_count": null,
   "id": "1e48e94d-a52b-428b-af51-0411d929493a",
   "metadata": {},
   "outputs": [],
   "source": [
    "adata = sc.AnnData(X=expression_df.values)\n",
    "adata.obs = metadata_df\n",
    "adata.var_names = expression_df.columns\n",
    "adata.obs_names = expression_df.index"
   ]
  },
  {
   "cell_type": "code",
   "execution_count": null,
   "id": "3f6c4d0c-905e-47f4-9464-ae6f7c396262",
   "metadata": {},
   "outputs": [],
   "source": [
    "adata.obs"
   ]
  },
  {
   "cell_type": "code",
   "execution_count": null,
   "id": "c4471e5f-957d-4074-b8bd-61e5d24f9c7d",
   "metadata": {},
   "outputs": [],
   "source": [
    "adata_clean_path = '/path/to/data/h5ad/01_adata_all.h5ad'\n",
    "adata_clean = sc.read_h5ad(adata_clean_path)\n",
    "adata_clean"
   ]
  },
  {
   "cell_type": "code",
   "execution_count": null,
   "id": "d17c9306-b364-4401-b635-e2f7da50fae2",
   "metadata": {},
   "outputs": [],
   "source": [
    "adata_clean.obs"
   ]
  },
  {
   "cell_type": "markdown",
   "id": "2f2e8639-5759-4a44-9f79-3bbac176babd",
   "metadata": {},
   "source": [
    "# Mapping"
   ]
  },
  {
   "cell_type": "code",
   "execution_count": null,
   "id": "17e5f605-b64c-4a0a-9d9a-e323110de56d",
   "metadata": {},
   "outputs": [],
   "source": [
    "def transfer_annotations(adata, adata_clean, suffix_map, columns_to_transfer):\n",
    "    import pandas as pd\n",
    "\n",
    "    # Helper: extract core barcode\n",
    "    def extract_core_barcode(barcode):\n",
    "        parts = barcode.split('-')\n",
    "        return '-'.join(parts[:-1])\n",
    "\n",
    "    # Build adata_neurons_df (all cells, or subset beforehand if you want neurons only!)\n",
    "    adata_df = pd.DataFrame({\n",
    "        'barcode_adata': adata.obs_names,\n",
    "        'core_barcode': adata.obs_names.map(extract_core_barcode),\n",
    "        'suffix_adata': adata.obs_names.map(lambda x: x.split('-')[-1]),\n",
    "        'expected_clean_suffix': adata.obs_names.map(lambda x: suffix_map.get(x.split('-')[-1], None))\n",
    "    })\n",
    "\n",
    "    # Add columns to transfer\n",
    "    for col in columns_to_transfer:\n",
    "        adata_df[col] = adata.obs[col].values\n",
    "\n",
    "    # Build adata_clean_df\n",
    "    adata_clean_df = pd.DataFrame({\n",
    "        'barcode_adata_clean': adata_clean.obs_names,\n",
    "        'core_barcode': adata_clean.obs_names.map(extract_core_barcode),\n",
    "        'suffix_adata_clean': adata_clean.obs_names.map(lambda x: x.split('-')[-1])\n",
    "    })\n",
    "\n",
    "    # Merge\n",
    "    merged = pd.merge(\n",
    "        adata_clean_df,\n",
    "        adata_df,\n",
    "        left_on=['core_barcode', 'suffix_adata_clean'],\n",
    "        right_on=['core_barcode', 'expected_clean_suffix'],\n",
    "        how='left'\n",
    "    )\n",
    "\n",
    "    # Write columns to adata_clean.obs\n",
    "    for col in columns_to_transfer:\n",
    "        adata_clean.obs[col] = merged.set_index('barcode_adata_clean').loc[adata_clean.obs_names, col]\n",
    "\n",
    "    # Optional: report\n",
    "    print(f\"Transferred columns: {columns_to_transfer}\")\n",
    "    for col in columns_to_transfer:\n",
    "        matched_count = adata_clean.obs[col].notna().sum()\n",
    "        print(f\" {col}: {matched_count} / {adata_clean.shape[0]} cells have value\")\n",
    "\n",
    "    return adata_clean  # return updated adata_clean (optional)"
   ]
  },
  {
   "cell_type": "code",
   "execution_count": null,
   "id": "a97d4416-2261-4c04-8275-73780e1bd9f6",
   "metadata": {},
   "outputs": [],
   "source": [
    "# Define suffix mapping\n",
    "suffix_map = {\n",
    "    'A': '1',\n",
    "    'B': '3',\n",
    "    'C': '5',\n",
    "    'D': '6',\n",
    "    'E': '7',\n",
    "    'F': '8'\n",
    "}\n",
    "\n",
    "# Define columns to transfer\n",
    "columns_to_transfer = [\n",
    "    'neuron_recluster_id',\n",
    "    'group',\n",
    "    'cluster',\n",
    "    'cell_type',\n",
    "    'injury',\n",
    "    'AAV',\n",
    "    'hemisphere'\n",
    "]\n",
    "\n",
    "adata_clean = transfer_annotations(adata, adata_clean, suffix_map, columns_to_transfer)"
   ]
  },
  {
   "cell_type": "code",
   "execution_count": null,
   "id": "704dc038-4cd0-4632-887b-d98608ba731c",
   "metadata": {},
   "outputs": [],
   "source": [
    "adata_clean.obs.neuron_recluster_id.value_counts()"
   ]
  },
  {
   "cell_type": "code",
   "execution_count": null,
   "id": "3ae8e3dd-c177-45b9-a7c5-0155ce055861",
   "metadata": {},
   "outputs": [],
   "source": [
    "adata_clean_neurons = adata_clean[~adata_clean.obs['neuron_recluster_id'].isna()].copy()\n",
    "\n",
    "print(f\"Neuron cells in adata_clean_neurons: {adata_clean_neurons.shape[0]}\")"
   ]
  },
  {
   "cell_type": "code",
   "execution_count": null,
   "id": "923c3c14-c96f-4ba5-8295-0912947e1d5a",
   "metadata": {},
   "outputs": [],
   "source": [
    "adata_clean_neurons"
   ]
  },
  {
   "cell_type": "code",
   "execution_count": null,
   "id": "4dbecd4d-4c6c-4bc9-ba04-78b7bd022509",
   "metadata": {},
   "outputs": [],
   "source": [
    "adata_neurons = adata[~adata.obs['neuron_recluster_id'].isna()].copy()\n",
    "print(f\"Number of neurons in adata_neurons: {adata_neurons.shape[0]}\")"
   ]
  },
  {
   "cell_type": "code",
   "execution_count": null,
   "id": "ffa8d275-96f8-4cb5-9077-a9e45fe804c1",
   "metadata": {},
   "outputs": [],
   "source": [
    "adata_clean_neurons = adata_clean_neurons[adata_clean_neurons.obs['solo_prediction'] == 'singlet'].copy()\n",
    "adata_clean_neurons"
   ]
  },
  {
   "cell_type": "markdown",
   "id": "12857146-6657-41b6-b124-dec53f9fe474",
   "metadata": {},
   "source": [
    "# Export"
   ]
  },
  {
   "cell_type": "code",
   "execution_count": null,
   "id": "ef39e2cc-f3a7-4413-bf19-89dab0dd9722",
   "metadata": {},
   "outputs": [],
   "source": [
    "output_dir = '/path/to/data/h5ad'\n",
    "adata_clean_neurons.write_h5ad(os.path.join(output_dir, '03_neurons-clean.h5ad'), compression='gzip')"
   ]
  }
 ],
 "metadata": {
  "kernelspec": {
   "display_name": "sc-spatial",
   "language": "python",
   "name": "sc-spatial"
  },
  "language_info": {
   "codemirror_mode": {
    "name": "ipython",
    "version": 3
   },
   "file_extension": ".py",
   "mimetype": "text/x-python",
   "name": "python",
   "nbconvert_exporter": "python",
   "pygments_lexer": "ipython3",
   "version": "3.12.2"
  }
 },
 "nbformat": 4,
 "nbformat_minor": 5
}
