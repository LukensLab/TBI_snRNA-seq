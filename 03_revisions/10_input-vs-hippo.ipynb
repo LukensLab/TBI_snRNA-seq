{
 "cells": [
  {
   "cell_type": "markdown",
   "id": "a940e3a6-ff35-4058-afae-c3c269431ffa",
   "metadata": {},
   "source": [
    "Comparative analysis of border vs. high-confidence hippocampal mappings"
   ]
  },
  {
   "cell_type": "code",
   "execution_count": null,
   "id": "21852d04-7778-41cd-99ad-15cceed2e632",
   "metadata": {},
   "outputs": [],
   "source": [
    "import os\n",
    "import sys\n",
    "from pathlib import Path\n",
    "import scanpy as sc\n",
    "import pandas as pd\n",
    "import numpy as np\n",
    "import matplotlib\n",
    "import matplotlib.pyplot as plt\n",
    "import matplotlib.colors as mcolors \n",
    "import matplotlib.patches as mpatches\n",
    "import seaborn as sns\n",
    "import session_info"
   ]
  },
  {
   "cell_type": "code",
   "execution_count": null,
   "id": "00be6332-8f92-49c8-86c7-f6f3e56aa624",
   "metadata": {},
   "outputs": [],
   "source": [
    "import matplotlib as mpl\n",
    "mpl.rcParams['pdf.fonttype'] = 42"
   ]
  },
  {
   "cell_type": "code",
   "execution_count": null,
   "id": "427ac630-3983-43a0-9c4d-a6a9a9f3c234",
   "metadata": {},
   "outputs": [],
   "source": [
    "plt.rcParams[\"figure.figsize\"] = (4, 4)"
   ]
  },
  {
   "cell_type": "code",
   "execution_count": null,
   "id": "54d00eb4-bfb4-4963-8adf-1e3a6c934a26",
   "metadata": {},
   "outputs": [],
   "source": [
    "plt.rcParams[\"figure.dpi\"] = 500"
   ]
  },
  {
   "cell_type": "code",
   "execution_count": null,
   "id": "abb48bbc-6c62-4d83-88e9-d76a16550ec0",
   "metadata": {},
   "outputs": [],
   "source": [
    "#plt.rcParams[\"font.size\"] = 24"
   ]
  },
  {
   "cell_type": "markdown",
   "id": "5c7073a0-025c-4b13-9010-c8134df09e13",
   "metadata": {},
   "source": [
    "#### Import data"
   ]
  },
  {
   "cell_type": "code",
   "execution_count": null,
   "id": "9d5f26d9-445d-4885-a906-3944386d7211",
   "metadata": {},
   "outputs": [],
   "source": [
    "# Base directory\n",
    "base_dir = Path(\"/path/to/project\")\n",
    "\n",
    "# Subdirectories\n",
    "## Input\n",
    "data_dir = base_dir / \"data/h5ad\"\n",
    "csv_dir = base_dir / \"data/mapmycells\"\n",
    "\n",
    "## Output\n",
    "output_dir = data_dir\n",
    "outs = base_dir / \"results\"\n",
    "fig_dir = outs / \"figures\"\n",
    "os.makedirs(output_dir, exist_ok=True)\n",
    "os.makedirs(outs, exist_ok=True)\n",
    "os.makedirs(fig_dir, exist_ok=True)"
   ]
  },
  {
   "cell_type": "code",
   "execution_count": null,
   "id": "6e6f931d-0ad5-47b8-9724-d98111127cf6",
   "metadata": {},
   "outputs": [],
   "source": [
    "sc.settings.figdir = fig_dir"
   ]
  },
  {
   "cell_type": "code",
   "execution_count": null,
   "id": "0160b292-3339-4417-ae64-9c27f174c4f8",
   "metadata": {},
   "outputs": [],
   "source": [
    "adata = sc.read_h5ad(os.path.join(data_dir, \"03_neurons-clean-scvi.h5ad\"))"
   ]
  },
  {
   "cell_type": "code",
   "execution_count": null,
   "id": "25ff0d2a-01a5-42fd-9513-23cad4407172",
   "metadata": {},
   "outputs": [],
   "source": [
    "metadata = {\n",
    "    '1':  {'group': 'Sham-GFP', 'group_id': 'A', 'condition': 'Sham', 'treatment': 'GFP',   'side': 'Ipsilateral'},\n",
    "    '3':  {'group': 'Sham-VEGFC', 'group_id': 'B', 'condition': 'Sham', 'treatment': 'VEGFC', 'side': 'Ipsilateral'},\n",
    "    '5':  {'group': 'TBI-GFP', 'group_id': 'C', 'condition': 'TBI',  'treatment': 'GFP',   'side': 'Ipsilateral'},\n",
    "    '6':  {'group': 'TBI-GFP', 'group_id': 'D', 'condition': 'TBI',  'treatment': 'GFP',   'side': 'Contralateral'},\n",
    "    '7':  {'group': 'TBI-VEGFC', 'group_id': 'E', 'condition': 'TBI',  'treatment': 'VEGFC', 'side': 'Ipsilateral'},\n",
    "    '8':  {'group': 'TBI-VEGFC', 'group_id': 'F', 'condition': 'TBI',  'treatment': 'VEGFC', 'side': 'Contralateral'},\n",
    "}\n",
    "\n",
    "for key in ['group', 'group_id', 'condition', 'treatment', 'side']:\n",
    "    adata.obs[key] = adata.obs['sample_id'].map({k: v[key] for k, v in metadata.items()})\n",
    "\n",
    "adata.obs.group.value_counts()"
   ]
  },
  {
   "cell_type": "code",
   "execution_count": null,
   "id": "ad06edf1-f4d5-435f-a119-cba470c6c8ec",
   "metadata": {},
   "outputs": [],
   "source": [
    "adata.obs.group_id.value_counts()"
   ]
  },
  {
   "cell_type": "code",
   "execution_count": null,
   "id": "61046ec7-0943-4649-9fc3-fb27e08739e9",
   "metadata": {},
   "outputs": [],
   "source": [
    "adata.layers['counts'] = adata.X.copy()\n",
    "sc.pp.normalize_total(adata)\n",
    "adata.layers['normalized'] = adata.X.copy()\n",
    "sc.pp.log1p(adata)\n",
    "adata.layers['log1p'] = adata.X.copy()\n",
    "adata.raw = adata.copy()"
   ]
  },
  {
   "cell_type": "code",
   "execution_count": null,
   "id": "fe9dfa83-d78c-46ab-a4ff-b398e4cd18d7",
   "metadata": {},
   "outputs": [],
   "source": [
    "adata.obs['cell_class'] = adata.obs['cell_type'].copy()"
   ]
  },
  {
   "cell_type": "code",
   "execution_count": null,
   "id": "b0c18e2b-115c-4f60-b103-e27c9781b7dc",
   "metadata": {},
   "outputs": [],
   "source": [
    "labels_df = pd.read_csv(\n",
    "    os.path.join(csv_dir, '03_neurons-clean_10xWholeMouseBrain(CCN20230722)_HierarchicalMapping_UTC_1749244668001.csv'),\n",
    "    skiprows=4\n",
    ")"
   ]
  },
  {
   "cell_type": "markdown",
   "id": "0f9726dd-13da-473c-b844-08800943e6fe",
   "metadata": {},
   "source": [
    "#### Leiden Clustering"
   ]
  },
  {
   "cell_type": "code",
   "execution_count": null,
   "id": "c611b690-96d6-4ccc-99ce-89036df2ee58",
   "metadata": {},
   "outputs": [],
   "source": [
    "sc.pp.neighbors(adata, use_rep=\"X_scVI\")\n",
    "sc.tl.umap(adata)\n",
    "sc.tl.leiden(adata, resolution=1, key_added=\"leiden\")"
   ]
  },
  {
   "cell_type": "code",
   "execution_count": null,
   "id": "97c46228-85b8-4f1f-a077-ddc7df4b9e4f",
   "metadata": {},
   "outputs": [],
   "source": [
    "sc.pl.umap(adata, color=\"leiden\")"
   ]
  },
  {
   "cell_type": "markdown",
   "id": "f11f44bb-95fe-4eed-95e4-80e6ebcd85ef",
   "metadata": {},
   "source": [
    "### Merge mapmycells annotations"
   ]
  },
  {
   "cell_type": "code",
   "execution_count": null,
   "id": "bef4858f-d4a8-4b3a-801f-12474d5ffabc",
   "metadata": {},
   "outputs": [],
   "source": [
    "print(adata.obs_names[:5])\n",
    "print(labels_df['cell_id'].head())"
   ]
  },
  {
   "cell_type": "code",
   "execution_count": null,
   "id": "a69ed379-4b26-480c-ab94-0a0c6a7942cd",
   "metadata": {},
   "outputs": [],
   "source": [
    "labels_df = labels_df.set_index('cell_id')\n",
    "\n",
    "columns_to_map = [\n",
    "    'class_label', 'class_name', 'class_bootstrapping_probability',\n",
    "    'subclass_label', 'subclass_name', 'subclass_bootstrapping_probability',\n",
    "    'supertype_label', 'supertype_name', 'supertype_bootstrapping_probability',\n",
    "    'cluster_label', 'cluster_name', 'cluster_alias', 'cluster_bootstrapping_probability'\n",
    "]\n",
    "\n",
    "for col in columns_to_map:\n",
    "    adata.obs[col] = adata.obs_names.map(labels_df[col])\n",
    "\n",
    "#print(adata.obs[columns_to_map].head())"
   ]
  },
  {
   "cell_type": "code",
   "execution_count": null,
   "id": "4c04a12a-002a-4e15-adb4-86381c6fc464",
   "metadata": {},
   "outputs": [],
   "source": [
    "adata"
   ]
  },
  {
   "cell_type": "code",
   "execution_count": null,
   "id": "54dc796f-39c5-4a80-8490-a9a70e330fbc",
   "metadata": {},
   "outputs": [],
   "source": [
    "sc.pl.umap(adata, color=['supertype_bootstrapping_probability', \n",
    "                         'subclass_bootstrapping_probability', \n",
    "                         'class_bootstrapping_probability'], cmap='viridis', wspace=0.4)"
   ]
  },
  {
   "cell_type": "code",
   "execution_count": null,
   "id": "f643fc02-5548-4240-8573-041a3f500772",
   "metadata": {},
   "outputs": [],
   "source": [
    "adata.obs['subclass_name'].value_counts()"
   ]
  },
  {
   "cell_type": "markdown",
   "id": "1645e563-c37a-47d1-a1eb-8dfab70d505b",
   "metadata": {},
   "source": [
    "### assign labels to clusters "
   ]
  },
  {
   "cell_type": "code",
   "execution_count": null,
   "id": "71956019-10c8-4c80-b684-afd1540931a5",
   "metadata": {},
   "outputs": [],
   "source": [
    "# Compute majority subclass_label per Leiden cluster\n",
    "majority_subclass_per_cluster = (\n",
    "    adata.obs.groupby('leiden')['subclass_name']\n",
    "    .agg(lambda x: x.value_counts().idxmax())\n",
    ")\n",
    "\n",
    "adata.obs['cell_type'] = adata.obs['leiden'].map(majority_subclass_per_cluster)\n",
    "print(adata.obs[['leiden', 'cell_type']].head())"
   ]
  },
  {
   "cell_type": "code",
   "execution_count": null,
   "id": "79521c70-b0bd-4315-8f61-0bca99ee8db3",
   "metadata": {},
   "outputs": [],
   "source": [
    "adata.obs['cell_type'] = adata.obs['cell_type'].astype('category')\n",
    "adata.obs['cell_type'] = adata.obs['cell_type'].cat.remove_unused_categories()\n",
    "\n",
    "cell_type_counts = adata.obs['cell_type'].value_counts()\n",
    "ordered_categories = cell_type_counts.index.tolist()\n",
    "adata.obs['cell_type'] = adata.obs['cell_type'].cat.reorder_categories(ordered_categories, ordered=True)\n",
    "\n",
    "husl_colors = sns.color_palette('husl', n_colors=len(ordered_categories))\n",
    "adata.uns['cell_type_colors'] = [mcolors.to_hex(c) for c in husl_colors]\n",
    "\n",
    "sc.pl.umap(adata, color=['leiden', 'Slc17a6', 'Slc17a7', 'Gad1', 'Gad2', 'cell_type'])"
   ]
  },
  {
   "cell_type": "code",
   "execution_count": null,
   "id": "dafe131f-7536-45ad-867b-8fc6db91128e",
   "metadata": {},
   "outputs": [],
   "source": [
    "adata.obs.cell_type.value_counts()"
   ]
  },
  {
   "cell_type": "code",
   "execution_count": null,
   "id": "7aa736b5-e42e-47bc-b5ed-ece248e3605d",
   "metadata": {},
   "outputs": [],
   "source": [
    "cell_type_counts = adata.obs['cell_type'].value_counts().reset_index()\n",
    "cell_type_counts.columns = ['cell_type', 'count']\n",
    "\n",
    "cell_type_counts = cell_type_counts.sort_values('count', ascending=False)\n",
    "\n",
    "plt.figure(figsize=(10, 8))\n",
    "sns.barplot(data=cell_type_counts, y='cell_type', x='count', palette='viridis')\n",
    "\n",
    "plt.title('Cell type composition (MapMyCells subclass labels)', fontsize=16)\n",
    "plt.xlabel('Number of cells', fontsize=14)\n",
    "plt.ylabel('Cell type', fontsize=14)\n",
    "plt.xticks(fontsize=12)\n",
    "plt.yticks(fontsize=12)\n",
    "\n",
    "plt.tight_layout()\n",
    "plt.show()"
   ]
  },
  {
   "cell_type": "markdown",
   "id": "114f3479-8803-42a1-8a1f-959ab1f9711f",
   "metadata": {},
   "source": [
    "### Annotate hippocampal vs border/input"
   ]
  },
  {
   "cell_type": "code",
   "execution_count": null,
   "id": "231fe1bb-0f29-4288-9c08-ece1432b8b1b",
   "metadata": {},
   "outputs": [],
   "source": [
    "hippocampus_core = [\n",
    "    '037 DG Glut',\n",
    "    '016 CA1-ProS Glut',\n",
    "    '025 CA2-FC-IG Glut',\n",
    "    '017 CA3 Glut',\n",
    "    '023 SUB-ProS Glut',\n",
    "    '033 NP SUB Glut',\n",
    "    'HPF CR Glut',  \n",
    "]\n",
    "\n",
    "hippocampus_interneurons = [\n",
    "    '053 Sst Gaba',\n",
    "    '052 Pvalb Gaba',\n",
    "    '050 Lamp5 Lhx6 Gaba',\n",
    "    '046 Vip Gaba',\n",
    "    '049 Lamp5 Gaba',\n",
    "]\n",
    "\n",
    "def assign_region(cell_type):\n",
    "    if cell_type in hippocampus_core or cell_type in hippocampus_interneurons:\n",
    "        return 'Hippocampal neurons'\n",
    "    else:\n",
    "        return 'Border/Input neurons'\n",
    "\n",
    "adata.obs['region_assignment'] = adata.obs['cell_type'].apply(assign_region)\n",
    "adata.obs['region_assignment'] = adata.obs['region_assignment'].astype('category')\n",
    "\n",
    "\n",
    "# subset to hippocampus\n",
    "adata_hippocampus_only = adata[adata.obs['region_assignment'] == 'Hippocampal neurons'].copy()\n",
    "sc.pl.umap(adata_hippocampus_only, color='cell_type', legend_loc='on data', title='Hippocampus - Cell Types')\n",
    "\n",
    "\n",
    "\n",
    "region_palette = {\n",
    "    'Hippocampal neurons': '#1f77b4',      # blue\n",
    "    'Border/Input neurons': '#d62728',   # red\n",
    "}\n",
    "\n",
    "sc.pl.umap(adata, color='region_assignment', palette=region_palette, title='Region Assignment (All Cells)')\n",
    "\n",
    "# barplot, region assignment\n",
    "region_counts = adata.obs['region_assignment'].value_counts().reset_index()\n",
    "region_counts.columns = ['region_assignment', 'count']\n",
    "\n",
    "plt.figure(figsize=(7, 5))\n",
    "sns.barplot(data=region_counts, x='region_assignment', y='count', palette=region_palette)\n",
    "\n",
    "plt.title('Region Assignment - Cell Counts')\n",
    "plt.xlabel('Region Assignment')\n",
    "plt.ylabel('Number of Cells')\n",
    "plt.xticks(rotation=20)\n",
    "plt.tight_layout()\n",
    "plt.show()"
   ]
  },
  {
   "cell_type": "code",
   "execution_count": null,
   "id": "60c16e41-4c72-4a1f-ab83-e7c539f7b910",
   "metadata": {},
   "outputs": [],
   "source": [
    "sc.pl.umap(adata, color = ['side', 'region_assignment'])"
   ]
  },
  {
   "cell_type": "markdown",
   "id": "6e68f5a4-95cc-4bc7-9de9-033e9c5aca0b",
   "metadata": {},
   "source": [
    "#### Compositional breadown -- input/output"
   ]
  },
  {
   "cell_type": "code",
   "execution_count": null,
   "id": "c29f337d-69df-454a-a2d3-d31756ef9847",
   "metadata": {},
   "outputs": [],
   "source": [
    "adata = adata[adata.obs['side'] == 'Ipsilateral'].copy()\n",
    "composition_counts = pd.crosstab(adata.obs['group'], adata.obs['region_assignment'])\n",
    "composition_props = composition_counts.div(composition_counts.sum(axis=1), axis=0)\n",
    "\n",
    "display(composition_counts)\n",
    "display(composition_props)\n",
    "\n",
    "type(composition_props)"
   ]
  },
  {
   "cell_type": "code",
   "execution_count": null,
   "id": "5f5ea0f1-de43-4f51-be9e-a6b380cdd7cb",
   "metadata": {},
   "outputs": [],
   "source": [
    "cell_type_counts = adata.obs['region_assignment'].value_counts()\n",
    "cell_types = cell_type_counts.index.tolist()\n",
    "\n",
    "palette = sns.color_palette(\"Paired\", n_colors=len(cell_types))\n",
    "cell_type_colors = [matplotlib.colors.to_hex(c) for c in palette]"
   ]
  },
  {
   "cell_type": "code",
   "execution_count": null,
   "id": "7e43ecc3-8bd4-4271-b3f2-0d2e5cd252d9",
   "metadata": {},
   "outputs": [],
   "source": [
    "cell_types = [ct for ct in cell_types if ct in composition_props.columns]"
   ]
  },
  {
   "cell_type": "code",
   "execution_count": null,
   "id": "5bf7f1e8-b2f4-496a-9b72-7ca9c100436c",
   "metadata": {},
   "outputs": [],
   "source": [
    "composition_props = composition_props.apply(pd.to_numeric)\n",
    "\n",
    "cell_type_color_dict = dict(zip(cell_types, cell_type_colors))\n",
    "\n",
    "ax = composition_props[cell_types].plot(  # ensure same order of columns!\n",
    "    kind='bar',\n",
    "    stacked=True,\n",
    "    figsize=(4, 4),\n",
    "    color=[cell_type_color_dict[ct] for ct in cell_types]  # use exact same colors\n",
    ")\n",
    "\n",
    "plt.ylabel('Proportion', fontsize=12)\n",
    "plt.xlabel('', fontsize=12)\n",
    "plt.title('Subtype Composition by Group', fontsize=14)\n",
    "\n",
    "ax.get_legend().remove()\n",
    "sns.despine()\n",
    "plt.tight_layout()\n",
    "\n",
    "save_path = fig_dir / \"anatomical_assignment_groups_freq.pdf\"\n",
    "plt.savefig(save_path, bbox_inches='tight')\n",
    "plt.show()"
   ]
  },
  {
   "cell_type": "code",
   "execution_count": null,
   "id": "eb796364-cace-4a46-9b43-fe1771f9be39",
   "metadata": {},
   "outputs": [],
   "source": [
    "composition_counts = composition_counts.apply(pd.to_numeric)\n",
    "\n",
    "cell_type_color_dict = dict(zip(cell_types, cell_type_colors))\n",
    "\n",
    "ax = composition_counts[cell_types].plot(\n",
    "    kind='bar',\n",
    "    stacked=True,\n",
    "    figsize=(4, 4),\n",
    "    color=[cell_type_color_dict[ct] for ct in cell_types]\n",
    ")\n",
    "\n",
    "plt.ylabel('Number of Cells', fontsize=12)\n",
    "plt.xlabel('', fontsize=12)\n",
    "plt.title('Subtype Composition by Group (Counts)', fontsize=14)\n",
    "\n",
    "ax.get_legend().remove()\n",
    "\n",
    "sns.despine()\n",
    "plt.tight_layout()\n",
    "\n",
    "save_path = fig_dir / \"anatomical_assignment_groups_count.pdf\"\n",
    "plt.savefig(save_path, bbox_inches='tight')\n",
    "plt.show()"
   ]
  },
  {
   "cell_type": "code",
   "execution_count": null,
   "id": "b5ca32c6-8f34-4150-a8e0-30b8808a898a",
   "metadata": {},
   "outputs": [],
   "source": [
    "handles, labels = ax.get_legend_handles_labels()\n",
    "\n",
    "fig_legend, ax_legend = plt.subplots(figsize=(2, 2))\n",
    "ax_legend.axis('off')  # hide the axes\n",
    "\n",
    "legend = ax_legend.legend(\n",
    "    handles,\n",
    "    labels,\n",
    "    loc='center',\n",
    "    frameon=False,\n",
    "    fontsize=10,\n",
    ")\n",
    "\n",
    "legend_path = fig_dir / \"anatomical_assignment_groups_legend.pdf\"\n",
    "fig_legend.savefig(legend_path, bbox_inches='tight', transparent=True)\n",
    "plt.show()"
   ]
  },
  {
   "cell_type": "markdown",
   "id": "6fdf1ada-d0dc-46fc-b8c2-cf665f35f256",
   "metadata": {},
   "source": [
    "#### Compositional breadown -- subtype"
   ]
  },
  {
   "cell_type": "code",
   "execution_count": null,
   "id": "2f85d2a7-d465-47b3-a993-fcf9201321f8",
   "metadata": {},
   "outputs": [],
   "source": [
    "adata_border = adata[adata.obs['region_assignment'] == 'Hippocampal neurons'].copy()\n",
    "\n",
    "composition_counts = pd.crosstab(adata_border.obs['group'], adata_border.obs['cell_type'])\n",
    "composition_props = composition_counts.div(composition_counts.sum(axis=1), axis=0)\n",
    "display(composition_counts)\n",
    "display(composition_props)\n",
    "\n",
    "type(composition_props)"
   ]
  },
  {
   "cell_type": "code",
   "execution_count": null,
   "id": "f52b285b-6494-4e0c-90c4-5bfe2407cf1c",
   "metadata": {},
   "outputs": [],
   "source": [
    "cell_type_counts = adata.obs['cell_type'].value_counts()\n",
    "cell_types = cell_type_counts.index.tolist()\n",
    "\n",
    "palette = sns.color_palette(\"Paired\", n_colors=len(cell_types))\n",
    "cell_type_colors = [matplotlib.colors.to_hex(c) for c in palette]"
   ]
  },
  {
   "cell_type": "code",
   "execution_count": null,
   "id": "2021e498-c17b-42a6-a3f5-9b8fb2df5ae4",
   "metadata": {},
   "outputs": [],
   "source": [
    "adata.obs"
   ]
  },
  {
   "cell_type": "code",
   "execution_count": null,
   "id": "5890c08a-ab72-4e6a-933a-24c5cfa85f0b",
   "metadata": {},
   "outputs": [],
   "source": [
    "cell_types = [ct for ct in cell_types if ct in composition_props.columns]"
   ]
  },
  {
   "cell_type": "code",
   "execution_count": null,
   "id": "41f3df42-1cd6-428c-a501-1a016fe4b392",
   "metadata": {},
   "outputs": [],
   "source": [
    "composition_props = composition_props.apply(pd.to_numeric)\n",
    "\n",
    "cell_type_color_dict = dict(zip(cell_types, cell_type_colors))\n",
    "\n",
    "ax = composition_props[cell_types].plot(  # ensure same order of columns!\n",
    "    kind='bar',\n",
    "    stacked=True,\n",
    "    figsize=(4, 4),\n",
    "    color=[cell_type_color_dict[ct] for ct in cell_types]  # use exact same colors\n",
    ")\n",
    "\n",
    "plt.ylabel('Proportion', fontsize=12)\n",
    "plt.xlabel('', fontsize=12)\n",
    "plt.title('Subtype Composition by Group', fontsize=14)\n",
    "\n",
    "ax.get_legend().remove()\n",
    "sns.despine()\n",
    "plt.tight_layout()\n",
    "\n",
    "save_path = fig_dir / \"subtype_groups.pdf\"\n",
    "plt.savefig(save_path, bbox_inches='tight')\n",
    "plt.show()"
   ]
  },
  {
   "cell_type": "code",
   "execution_count": null,
   "id": "5f9d0d31-93e2-40d4-95f2-568f5c168cea",
   "metadata": {},
   "outputs": [],
   "source": [
    "handles, labels = ax.get_legend_handles_labels()\n",
    "\n",
    "fig_legend, ax_legend = plt.subplots(figsize=(2, 2))\n",
    "ax_legend.axis('off')  # hide the axes\n",
    "\n",
    "legend = ax_legend.legend(\n",
    "    handles,\n",
    "    labels,\n",
    "    loc='center',\n",
    "    frameon=False,\n",
    "    fontsize=10,\n",
    ")\n",
    "\n",
    "legend_path = fig_dir / \"subtype_groups_legend.pdf\"\n",
    "fig_legend.savefig(legend_path, bbox_inches='tight', transparent=True)\n",
    "plt.show()"
   ]
  },
  {
   "cell_type": "markdown",
   "id": "8473b97d-b266-4460-99f3-4712fbe01975",
   "metadata": {},
   "source": [
    "#### Visualize gene expression by anatomical assignment and treatment group"
   ]
  },
  {
   "cell_type": "code",
   "execution_count": null,
   "id": "aebaad89-a3cb-45b1-b902-ac2e9f0b9afe",
   "metadata": {},
   "outputs": [],
   "source": [
    "genes = ['Arpp21', 'R3hdm1', 'Rorb', 'Cux1', 'Cux2', 'Brinp3', 'Mef2c', 'Zbtb20']"
   ]
  },
  {
   "cell_type": "code",
   "execution_count": null,
   "id": "a231d35d-535e-4073-b2f9-6ceeccf59d32",
   "metadata": {},
   "outputs": [],
   "source": [
    "sc.pl.matrixplot(adata, \n",
    "                 var_names = genes, \n",
    "                 groupby = ['region_assignment', 'group'], \n",
    "                 standard_scale = 'var', \n",
    "                 colorbar_title = 'Scaled to gene',\n",
    "                save=\"cortical_genes.pdf\")"
   ]
  },
  {
   "cell_type": "code",
   "execution_count": null,
   "id": "bb3a11ee-ae14-4fcc-89e0-9c79f65854c7",
   "metadata": {},
   "outputs": [],
   "source": [
    "sc.pl.dotplot(adata, \n",
    "              var_names = genes, \n",
    "              groupby = ['region_assignment', 'group'], \n",
    "              standard_scale = 'var', \n",
    "              colorbar_title = 'Scaled to gene',\n",
    "             save=\"cortical_genes.pdf\")"
   ]
  }
 ],
 "metadata": {
  "kernelspec": {
   "display_name": "sc-spatial",
   "language": "python",
   "name": "sc-spatial"
  },
  "language_info": {
   "codemirror_mode": {
    "name": "ipython",
    "version": 3
   },
   "file_extension": ".py",
   "mimetype": "text/x-python",
   "name": "python",
   "nbconvert_exporter": "python",
   "pygments_lexer": "ipython3",
   "version": "3.12.2"
  }
 },
 "nbformat": 4,
 "nbformat_minor": 5
}
